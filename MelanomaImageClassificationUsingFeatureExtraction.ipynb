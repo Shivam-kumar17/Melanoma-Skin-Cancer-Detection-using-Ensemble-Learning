{
 "cells": [
  {
   "cell_type": "code",
   "execution_count": 1,
   "metadata": {
    "id": "GSmYxpH7wyoH",
    "scrolled": true
   },
   "outputs": [],
   "source": [
    "import numpy as np\n",
    "import matplotlib.pyplot as plt\n",
    "import glob\n",
    "import cv2 as cv\n",
    "from keras.models import Model, Sequential\n",
    "from keras.layers import Dense, Flatten, Conv2D, MaxPooling2D\n",
    "from tensorflow.keras.layers import BatchNormalization\n",
    "import os\n",
    "import seaborn as sns\n",
    "from keras.applications.vgg19 import VGG19\n",
    "#EfficientNetV2L\n",
    "#from keras.applications.efficientnet import EfficientNetV2L\n",
    "from keras.applications.efficientnet import EfficientNetB0\n",
    "from tensorflow.keras.applications.mobilenet import MobileNet\n",
    "from sklearn.ensemble import VotingClassifier"
   ]
  },
  {
   "cell_type": "code",
   "execution_count": null,
   "metadata": {
    "colab": {
     "base_uri": "https://localhost:8080/"
    },
    "id": "FD2CU6cDy6lV",
    "outputId": "eb1e4d31-ff57-454a-feb0-08f560e81066"
   },
   "outputs": [],
   "source": [
    "def input_data(folder_path, output_data):    #importing the data into the output_data list\n",
    "    for dirs in os.listdir(folder_path):\n",
    "        class_name = dirs\n",
    "        new_path = os.path.join(folder_path, class_name)\n",
    "        for img in os.listdir(new_path):\n",
    "            img_arr = cv.imread(os.path.join(new_path, img), cv.IMREAD_COLOR)\n",
    "            resize = cv.resize(img_arr, (128,128))\n",
    "            img = cv.cvtColor(img_arr, cv.COLOR_RGB2BGR)\n",
    "            output_data.append([resize, class_name])\n",
    "    return output_data"
   ]
  },
  {
   "cell_type": "code",
   "execution_count": null,
   "metadata": {},
   "outputs": [],
   "source": [
    "train_data = input_data(r\"C:\\Users\\lenovo\\Documents\\dataset\\melanoma_cancer_dataset\\train\", [])\n",
    "test_data = input_data(r\"C:\\Users\\lenovo\\Documents\\dataset\\melanoma_cancer_dataset\\test\", [])"
   ]
  },
  {
   "cell_type": "code",
   "execution_count": null,
   "metadata": {},
   "outputs": [],
   "source": [
    "np.random.shuffle(train_data)   #shuffling the data\n",
    "np.random.shuffle(test_data)"
   ]
  },
  {
   "cell_type": "code",
   "execution_count": null,
   "metadata": {},
   "outputs": [],
   "source": [
    "X_train = []              #separating the image and labels from the train_data list\n",
    "Y_train = []\n",
    "for features, labels in train_data:\n",
    "    X_train.append(features)\n",
    "    Y_train.append(labels)"
   ]
  },
  {
   "cell_type": "code",
   "execution_count": null,
   "metadata": {},
   "outputs": [],
   "source": [
    "X_test = []    #separating the image and labels from the test_data list\n",
    "Y_test = []\n",
    "for features, labels in test_data:\n",
    "    X_test.append(features)\n",
    "    Y_test.append(labels)"
   ]
  },
  {
   "cell_type": "code",
   "execution_count": null,
   "metadata": {
    "id": "nw2gelW4zHBv"
   },
   "outputs": [],
   "source": [
    "#Convert lists to arrays\n",
    "test_images = np.array(X_test)\n",
    "test_labels = np.array(Y_test)"
   ]
  },
  {
   "cell_type": "code",
   "execution_count": null,
   "metadata": {
    "id": "a2yea9Rkpn3p"
   },
   "outputs": [],
   "source": [
    "train_images = np.array(X_train)\n",
    "train_labels = np.array(Y_train)"
   ]
  },
  {
   "cell_type": "code",
   "execution_count": null,
   "metadata": {
    "id": "ozQnFMpcpn3p"
   },
   "outputs": [],
   "source": [
    "from sklearn import preprocessing\n",
    "le = preprocessing.LabelEncoder()\n",
    "le.fit(test_labels)\n",
    "test_labels_encoded = le.transform(test_labels)\n",
    "le.fit(train_labels)\n",
    "train_labels_encoded = le.transform(train_labels)"
   ]
  },
  {
   "cell_type": "code",
   "execution_count": null,
   "metadata": {
    "id": "--JnL0kWzOZ2"
   },
   "outputs": [],
   "source": [
    "#Split data into test and train datasets (already split but assigning to meaningful convention)\n",
    "x_train, y_train, x_test, y_test = train_images, train_labels_encoded, test_images, test_labels_encoded"
   ]
  },
  {
   "cell_type": "code",
   "execution_count": null,
   "metadata": {
    "id": "8pBwmk6Gpn3q",
    "outputId": "55eae8db-e6af-4fea-e27b-603c4999d788"
   },
   "outputs": [],
   "source": [
    "y_train[10:20]"
   ]
  },
  {
   "cell_type": "code",
   "execution_count": null,
   "metadata": {
    "colab": {
     "base_uri": "https://localhost:8080/"
    },
    "id": "JV2_-0M1b649",
    "outputId": "a8576d0f-92fc-4469-f5f6-6ad6809e5d2d"
   },
   "outputs": [],
   "source": [
    "x_train.shape"
   ]
  },
  {
   "cell_type": "code",
   "execution_count": null,
   "metadata": {
    "id": "Or-sseNQpn3r",
    "outputId": "ee1559f5-4fc4-4a94-edce-77694ebd8347"
   },
   "outputs": [],
   "source": [
    "labels=np.unique(y_test)\n",
    "print(labels)"
   ]
  },
  {
   "cell_type": "markdown",
   "metadata": {
    "id": "C6TulBRypn3r"
   },
   "source": [
    "# Vision Transformer Model0"
   ]
  },
  {
   "cell_type": "code",
   "execution_count": null,
   "metadata": {
    "id": "dRmu8g8tpn3s"
   },
   "outputs": [],
   "source": [
    "from .VisionTransformer import ViT\n",
    "Model = ViT(input_shape = (128, 128, 3), num_classes = 2, num_transformer_blocks = 4,embed_dim = 32 , num_heads = 8 , ff_dim = 32)"
   ]
  },
  {
   "cell_type": "code",
   "execution_count": null,
   "metadata": {
    "id": "DvI4KEvEpn3s",
    "outputId": "23c9e2a9-60a1-4374-d37b-083057c84deb"
   },
   "outputs": [],
   "source": [
    "for layer in Model.layers:\n",
    "    layer.trainable = False\n",
    "\n",
    "print(Model.summary())"
   ]
  },
  {
   "cell_type": "markdown",
   "metadata": {
    "id": "YyXLXK34qUyx"
   },
   "source": [
    "# Feature Extraction"
   ]
  },
  {
   "cell_type": "code",
   "execution_count": null,
   "metadata": {
    "id": "X7DcyKsBzfHK",
    "outputId": "3d55061b-168f-4f76-e295-d18914ff08a1"
   },
   "outputs": [],
   "source": [
    "#Now, let us use features from convolutional network for RF\n",
    "feature_extractor__=Model.predict(x_train)"
   ]
  },
  {
   "cell_type": "code",
   "execution_count": null,
   "metadata": {
    "id": "Vx2pmWykjgF6",
    "outputId": "56bc973c-f68e-40e0-f876-71f91019fe88"
   },
   "outputs": [],
   "source": [
    "fe___test=Model.predict(x_test)\n",
    "#fe___test=MobileNet_model.predict(x_test)"
   ]
  },
  {
   "cell_type": "code",
   "execution_count": null,
   "metadata": {
    "id": "I2Up7t_izjUJ"
   },
   "outputs": [],
   "source": [
    "features__ = feature_extractor__.reshape(feature_extractor__.shape[0], -1)"
   ]
  },
  {
   "cell_type": "code",
   "execution_count": null,
   "metadata": {
    "id": "IuSPDos-jtLQ"
   },
   "outputs": [],
   "source": [
    "f___test=fe___test.reshape(fe___test.shape[0],-1)"
   ]
  },
  {
   "cell_type": "code",
   "execution_count": null,
   "metadata": {
    "colab": {
     "base_uri": "https://localhost:8080/"
    },
    "id": "qCyJhMeuIeJi",
    "outputId": "46a832c7-00cb-4a24-a4f4-5a696c6a2db1"
   },
   "outputs": [],
   "source": [
    "print(f___test.shape)"
   ]
  },
  {
   "cell_type": "code",
   "execution_count": null,
   "metadata": {
    "id": "-ntC8JFCzlkj"
   },
   "outputs": [],
   "source": [
    "# X_for_RF = features__ #This is our X input to RF"
   ]
  },
  {
   "cell_type": "markdown",
   "metadata": {
    "id": "ITBe8gSpJPFs"
   },
   "source": [
    "#Machine Learning Models For Classifications"
   ]
  },
  {
   "cell_type": "markdown",
   "metadata": {
    "id": "I44dTZSkQd2Y"
   },
   "source": [
    "##K-Nearest Neighbours"
   ]
  },
  {
   "cell_type": "code",
   "execution_count": null,
   "metadata": {
    "id": "xnIYTfliQZug"
   },
   "outputs": [],
   "source": [
    "import math\n",
    "import numpy as np\n",
    "import pandas as pd\n",
    "from datetime import datetime\n",
    "\n",
    "import seaborn as sns\n",
    "import matplotlib.pyplot as plt\n",
    "# %matplotlib inline\n",
    "# plt.style.use('seaborn-whitegrid')\n",
    "\n",
    "from sklearn.neighbors import KNeighborsClassifier\n",
    "from sklearn.metrics import classification_report\n",
    "from sklearn.metrics import confusion_matrix"
   ]
  },
  {
   "cell_type": "code",
   "execution_count": null,
   "metadata": {
    "id": "ffot27_eS0aD"
   },
   "outputs": [],
   "source": [
    "knn = KNeighborsClassifier(n_neighbors=10)\n",
    "knn.fit(features__ , y_train)\n",
    "y_pred=knn.predict(f___test)"
   ]
  },
  {
   "cell_type": "code",
   "execution_count": null,
   "metadata": {
    "colab": {
     "base_uri": "https://localhost:8080/"
    },
    "id": "O3y_ZboPTIP5",
    "outputId": "e5c6239f-12c8-4fc7-818d-bbcff647e1ba"
   },
   "outputs": [],
   "source": [
    "from sklearn.metrics import accuracy_score, confusion_matrix , precision_score,   recall_score ,  f1_score\n",
    "acc=accuracy_score(y_test,y_pred)\n",
    "acc"
   ]
  },
  {
   "cell_type": "code",
   "execution_count": null,
   "metadata": {
    "id": "48ICOEErpn3u",
    "outputId": "8a334ca7-2c10-4052-dd0c-69a6f8caf270"
   },
   "outputs": [],
   "source": [
    "precision_score(y_test,y_pred,average='micro')"
   ]
  },
  {
   "cell_type": "code",
   "execution_count": null,
   "metadata": {
    "id": "pbMyQXPTpn3u",
    "outputId": "8fe0bec1-16d1-456b-dd09-2f10bf5b8167"
   },
   "outputs": [],
   "source": [
    "recall_score(y_test,y_pred,average='micro')"
   ]
  },
  {
   "cell_type": "code",
   "execution_count": null,
   "metadata": {
    "id": "GCu-99Pypn3u",
    "outputId": "f712ffce-c321-4ccd-925c-1b33a85f8b06"
   },
   "outputs": [],
   "source": [
    "f1_score(y_test,y_pred,average='micro')"
   ]
  },
  {
   "cell_type": "code",
   "execution_count": null,
   "metadata": {
    "id": "9vwBEc8Hpn3x"
   },
   "outputs": [],
   "source": [
    "import seaborn as sns\n",
    "import matplotlib.pyplot as plt\n",
    "\n",
    "### Confusion Matrix\n",
    "from sklearn.metrics import confusion_matrix"
   ]
  },
  {
   "cell_type": "code",
   "execution_count": null,
   "metadata": {
    "id": "SZUozKt-pn3x",
    "outputId": "8525bbd3-c6ec-4dfc-99ff-bb3ab58baa9f"
   },
   "outputs": [],
   "source": [
    "cm = confusion_matrix(y_test,y_pred)\n",
    "cm"
   ]
  },
  {
   "cell_type": "code",
   "execution_count": null,
   "metadata": {
    "id": "WqA4lbZ7pn3x",
    "outputId": "1cc6d26a-1904-4318-fc68-b6d62a0f2e8a"
   },
   "outputs": [],
   "source": [
    "import seaborn as sns\n",
    "import matplotlib.pyplot as plt\n",
    "\n",
    "### Confusion Matrix\n",
    "from sklearn.metrics import confusion_matrix\n",
    "#predictions = model.predict(x_test, steps=len(x_test), verbose=0)\n",
    "#y_pred=model.predict(x_test)\n",
    "#y_pred = np.round(y_pred)\n",
    "#y_pred = np.argmax(predictions, axis=-1)\n",
    "\n",
    "#y_true=np.argmax(y_test, axis=-1)\n",
    "\n",
    "#cm = confusion_matrix(y_true, y_pred)\n",
    "\n",
    "## Get Class Labels\n",
    "#labels = le.classes_\n",
    "class_names = labels\n",
    "\n",
    "# Plot confusion matrix in a beautiful manner\n",
    "fig = plt.figure(figsize=(7, 7))\n",
    "ax= plt.subplot()\n",
    "sns.heatmap(cm, annot=True, ax = ax, cmap=\"Blues\", fmt = \"g\"); #annot=True to annotate cells\n",
    "# labels, title and ticks\n",
    "ax.set_xlabel('Predicted', fontsize=15)\n",
    "ax.xaxis.set_label_position('bottom')\n",
    "plt.xticks(rotation=90)\n",
    "ax.xaxis.set_ticklabels(class_names, fontsize = 15)\n",
    "ax.xaxis.tick_bottom()\n",
    "\n",
    "ax.set_ylabel('True', fontsize=15)\n",
    "ax.yaxis.set_ticklabels(class_names, fontsize = 15)\n",
    "plt.yticks(rotation=0)\n",
    "\n",
    "#plt.title('Refined Confusion Matrix', fontsize=15)\n",
    "\n",
    "# plt.savefig('/home/nd/Ankit-Deepto-Btech/Xception_128_128/Xception_KNN.png')\n",
    "plt.show()"
   ]
  },
  {
   "cell_type": "markdown",
   "metadata": {
    "id": "lY4C3g-uqAV9"
   },
   "source": [
    "##Logistic Regression"
   ]
  },
  {
   "cell_type": "markdown",
   "metadata": {
    "id": "J3G-UJZlGTbC"
   },
   "source": [
    "###Used In  Binary and Multiclass Classifications"
   ]
  },
  {
   "cell_type": "code",
   "execution_count": null,
   "metadata": {
    "id": "zfOxKRLdqJos"
   },
   "outputs": [],
   "source": [
    "import pandas as pd\n",
    "from sklearn.linear_model import LogisticRegression\n",
    "from sklearn.metrics import classification_report\n",
    "from sklearn.metrics import confusion_matrix"
   ]
  },
  {
   "cell_type": "code",
   "execution_count": null,
   "metadata": {
    "colab": {
     "base_uri": "https://localhost:8080/"
    },
    "id": "tEYmsyOfjK6C",
    "outputId": "352c6feb-c7ec-4c4b-da79-69d1480e04f0"
   },
   "outputs": [],
   "source": [
    "features__.shape"
   ]
  },
  {
   "cell_type": "code",
   "execution_count": null,
   "metadata": {
    "colab": {
     "base_uri": "https://localhost:8080/"
    },
    "id": "tnxcnEydWGFS",
    "outputId": "deca51ad-d3ba-46a7-a586-8e79e6b98b55"
   },
   "outputs": [],
   "source": [
    "...\n",
    "# define the multinomial logistic regression model\n",
    "lrm = LogisticRegression(multi_class='multinomial', solver='lbfgs')\n",
    "lrm.fit(features__ , y_train)\n",
    "y_pred_lr=lrm.predict(f___test)"
   ]
  },
  {
   "cell_type": "code",
   "execution_count": null,
   "metadata": {
    "colab": {
     "base_uri": "https://localhost:8080/"
    },
    "id": "4iRnXhUJWGK7",
    "outputId": "8a4e9717-034a-45f2-89a2-a9f0a5f03652"
   },
   "outputs": [],
   "source": [
    "from sklearn.metrics import accuracy_score, confusion_matrix , precision_score,   recall_score ,  f1_score\n",
    "acc=accuracy_score(y_test,y_pred_lr)\n",
    "acc"
   ]
  },
  {
   "cell_type": "code",
   "execution_count": null,
   "metadata": {
    "id": "ZHWztKxCpn3y",
    "outputId": "a8602f85-8dec-47b9-c32a-eecc9049c9dc"
   },
   "outputs": [],
   "source": [
    "precision_score(y_test,y_pred_lr,average=None)"
   ]
  },
  {
   "cell_type": "code",
   "execution_count": null,
   "metadata": {
    "id": "p3OJFrfPpn3z",
    "outputId": "0e52a326-b608-4d7b-c4c0-84873f595e34"
   },
   "outputs": [],
   "source": [
    "recall_score(y_test,y_pred_lr,average=None)"
   ]
  },
  {
   "cell_type": "code",
   "execution_count": null,
   "metadata": {
    "id": "3IiCbwnJpn3z",
    "outputId": "e6ad06f4-afd4-4fdc-f8e2-e153eb6f8acf"
   },
   "outputs": [],
   "source": [
    "f1_score(y_test,y_pred_lr,average=None)"
   ]
  },
  {
   "cell_type": "code",
   "execution_count": null,
   "metadata": {
    "id": "ZOH59y-Spn3z",
    "outputId": "c71bbe74-8e8e-4b5f-d476-6696fc4c118e"
   },
   "outputs": [],
   "source": [
    "cm = confusion_matrix(y_test,y_pred_lr)\n",
    "cm"
   ]
  },
  {
   "cell_type": "code",
   "execution_count": null,
   "metadata": {
    "id": "iAO5pci9pn3z",
    "outputId": "b1633a0a-d164-4282-e3b3-d3aea914dc58"
   },
   "outputs": [],
   "source": [
    "import seaborn as sns\n",
    "import matplotlib.pyplot as plt\n",
    "\n",
    "### Confusion Matrix\n",
    "from sklearn.metrics import confusion_matrix\n",
    "#predictions = model.predict(x_test, steps=len(x_test), verbose=0)\n",
    "#y_pred=model.predict(x_test)\n",
    "#y_pred = np.round(y_pred)\n",
    "#y_pred = np.argmax(predictions, axis=-1)\n",
    "\n",
    "#y_true=np.argmax(y_test, axis=-1)\n",
    "\n",
    "#cm = confusion_matrix(y_true, y_pred)\n",
    "\n",
    "## Get Class Labels\n",
    "#labels = le.classes_\n",
    "class_names = labels\n",
    "\n",
    "# Plot confusion matrix in a beautiful manner\n",
    "fig = plt.figure(figsize=(7, 7))\n",
    "ax= plt.subplot()\n",
    "sns.heatmap(cm, annot=True, ax = ax, cmap=\"Blues\", fmt = \"g\"); #annot=True to annotate cells\n",
    "# labels, title and ticks\n",
    "ax.set_xlabel('Predicted', fontsize=15)\n",
    "ax.xaxis.set_label_position('bottom')\n",
    "plt.xticks(rotation=90)\n",
    "ax.xaxis.set_ticklabels(class_names, fontsize = 15)\n",
    "ax.xaxis.tick_bottom()\n",
    "\n",
    "ax.set_ylabel('True', fontsize=15)\n",
    "ax.yaxis.set_ticklabels(class_names, fontsize = 15)\n",
    "plt.yticks(rotation=0)\n",
    "\n",
    "#plt.title('Refined Confusion Matrix', fontsize=15)\n",
    "\n",
    "# plt.savefig('/home/nd/Ankit-Deepto-Btech/Xception_128_128/XceptionLR.png')\n",
    "plt.show()"
   ]
  },
  {
   "cell_type": "code",
   "execution_count": null,
   "metadata": {
    "colab": {
     "base_uri": "https://localhost:8080/"
    },
    "id": "6OgF6rFtkowO",
    "outputId": "e1cba501-bd34-40b4-9b01-fa22a5c69aeb"
   },
   "outputs": [],
   "source": [
    "from sklearn.metrics import accuracy_score, confusion_matrix, precision_score,   recall_score ,  f1_score\n",
    "acc=accuracy_score(y_test,y_pred_lr)\n",
    "acc"
   ]
  },
  {
   "cell_type": "code",
   "execution_count": null,
   "metadata": {
    "id": "x9l77KRrmq3h"
   },
   "outputs": [],
   "source": [
    "# precision_score(y_test,y_pred,average=None)"
   ]
  },
  {
   "cell_type": "code",
   "execution_count": null,
   "metadata": {
    "id": "RGhjTbq1bCi3"
   },
   "outputs": [],
   "source": [
    "# metrics.f1_score(y_test,y_pred,average=None)"
   ]
  },
  {
   "cell_type": "markdown",
   "metadata": {
    "id": "kyWoFwlZRuHG"
   },
   "source": [
    "##Random Forest"
   ]
  },
  {
   "cell_type": "code",
   "execution_count": null,
   "metadata": {
    "id": "8iFLD3xkzof4"
   },
   "outputs": [],
   "source": [
    "#RANDOM FOREST\n",
    "from sklearn.ensemble import RandomForestClassifier\n",
    "RF_model = RandomForestClassifier(n_estimators = 50, random_state = 42)"
   ]
  },
  {
   "cell_type": "code",
   "execution_count": null,
   "metadata": {
    "colab": {
     "base_uri": "https://localhost:8080/"
    },
    "id": "90Dv2p0gzrnq",
    "outputId": "ae4052be-e943-4b95-8498-e04b9e9bd395"
   },
   "outputs": [],
   "source": [
    "# Train the model on training data\n",
    "RF_model.fit(features__, y_train) #For sklearn no one hot encoding"
   ]
  },
  {
   "cell_type": "code",
   "execution_count": null,
   "metadata": {
    "colab": {
     "base_uri": "https://localhost:8080/"
    },
    "id": "ZaSMbdnrOEPu",
    "outputId": "5548791a-46c2-46fc-cb29-e1dfd9aced5e"
   },
   "outputs": [],
   "source": [
    "print(RF_model.score(features__, y_train))"
   ]
  },
  {
   "cell_type": "code",
   "execution_count": null,
   "metadata": {
    "id": "xXRnnECizvJ5",
    "outputId": "abf857dd-7cdf-4b9f-a2bf-44c5fc01aecd"
   },
   "outputs": [],
   "source": [
    "#Send test data through same feature extractor process\n",
    "X_test_feature = Model.predict(x_test)\n",
    "\n"
   ]
  },
  {
   "cell_type": "code",
   "execution_count": null,
   "metadata": {
    "id": "Zj3x6oIuJPxW"
   },
   "outputs": [],
   "source": [
    "X_test_features__ = X_test_feature.reshape(X_test_feature.shape[0], -1)"
   ]
  },
  {
   "cell_type": "code",
   "execution_count": null,
   "metadata": {
    "colab": {
     "base_uri": "https://localhost:8080/"
    },
    "id": "5Fs-En86Liwa",
    "outputId": "fd562826-81a1-4e96-fda6-b18776f1809c"
   },
   "outputs": [],
   "source": [
    "print(X_test_feature.shape)"
   ]
  },
  {
   "cell_type": "code",
   "execution_count": null,
   "metadata": {
    "id": "54u0HC8Fzyiu"
   },
   "outputs": [],
   "source": [
    "#Now predict using the trained RF model.\n",
    "prediction_RF = RF_model.predict(X_test_features__)\n",
    "#Inverse le transform to get original label back.\n",
    "prediction_RF = le.inverse_transform(prediction_RF)"
   ]
  },
  {
   "cell_type": "code",
   "execution_count": null,
   "metadata": {
    "colab": {
     "base_uri": "https://localhost:8080/"
    },
    "id": "NV4zZYl5NiLw",
    "outputId": "6443dfc5-71b5-4bd7-d236-18f43e8c976f"
   },
   "outputs": [],
   "source": [
    "print(prediction_RF.shape)"
   ]
  },
  {
   "cell_type": "code",
   "execution_count": null,
   "metadata": {
    "colab": {
     "base_uri": "https://localhost:8080/"
    },
    "id": "t-GBJ1nPL8Hj",
    "outputId": "355c0bb1-afe2-4269-e05b-42f782b520c2"
   },
   "outputs": [],
   "source": [
    "print(test_labels.shape)"
   ]
  },
  {
   "cell_type": "code",
   "execution_count": null,
   "metadata": {
    "colab": {
     "base_uri": "https://localhost:8080/"
    },
    "id": "OBaL5PYMz47n",
    "outputId": "d5b3e0eb-e6b4-45f8-c9e5-33849354a468"
   },
   "outputs": [],
   "source": [
    "#Print overall accuracy\n",
    "from sklearn import metrics\n",
    "print (\"Accuracy = \", metrics.accuracy_score(test_labels, prediction_RF))"
   ]
  },
  {
   "cell_type": "code",
   "execution_count": null,
   "metadata": {
    "id": "ElAhPpGEpn32",
    "outputId": "98a63e3c-84a1-40f7-a8df-3807b60cb385"
   },
   "outputs": [],
   "source": [
    "print (\"Accuracy = \", metrics.accuracy_score(test_labels, prediction_RF))\n",
    "print(\"Precision =\", precision_score(test_labels,prediction_RF,average='micro'))\n",
    "print(\"Recall =\",recall_score(test_labels,prediction_RF,average='micro'))\n",
    "print(\"F_1 =\", f1_score(test_labels,prediction_RF,average='micro'))"
   ]
  },
  {
   "cell_type": "code",
   "execution_count": null,
   "metadata": {
    "id": "B8zj8NJwpn32",
    "outputId": "1b387ba6-f05a-4ab0-daac-5bb5e7b2cafd"
   },
   "outputs": [],
   "source": [
    "cm = confusion_matrix(test_labels,prediction_RF)\n",
    "import seaborn as sns\n",
    "import matplotlib.pyplot as plt\n",
    "\n",
    "### Confusion Matrix\n",
    "from sklearn.metrics import confusion_matrix\n",
    "#predictions = model.predict(x_test, steps=len(x_test), verbose=0)\n",
    "#y_pred=model.predict(x_test)\n",
    "#y_pred = np.round(y_pred)\n",
    "#y_pred = np.argmax(predictions, axis=-1)\n",
    "\n",
    "#y_true=np.argmax(y_test, axis=-1)\n",
    "\n",
    "#cm = confusion_matrix(y_true, y_pred)\n",
    "\n",
    "## Get Class Labels\n",
    "#labels = le.classes_\n",
    "class_names = labels\n",
    "\n",
    "# Plot confusion matrix in a beautiful manner\n",
    "fig = plt.figure(figsize=(7, 7))\n",
    "ax= plt.subplot()\n",
    "sns.heatmap(cm, annot=True, ax = ax, cmap=\"Blues\", fmt = \"g\"); #annot=True to annotate cells\n",
    "# labels, title and ticks\n",
    "ax.set_xlabel('Predicted', fontsize=15)\n",
    "ax.xaxis.set_label_position('bottom')\n",
    "plt.xticks(rotation=90)\n",
    "ax.xaxis.set_ticklabels(class_names, fontsize = 15)\n",
    "ax.xaxis.tick_bottom()\n",
    "\n",
    "ax.set_ylabel('True', fontsize=15)\n",
    "ax.yaxis.set_ticklabels(class_names, fontsize = 15)\n",
    "plt.yticks(rotation=0)\n",
    "\n",
    "#plt.title('Refined Confusion Matrix', fontsize=15)\n",
    "\n",
    "# plt.savefig('/home/nd/Ankit-Deepto-Btech/Xception_128_128/Xception_RandomForest.png')\n",
    "plt.show()"
   ]
  },
  {
   "cell_type": "markdown",
   "metadata": {
    "id": "b7py5XoeTCXv"
   },
   "source": [
    "##XGBoost"
   ]
  },
  {
   "cell_type": "code",
   "execution_count": null,
   "metadata": {
    "id": "hFi9LBRT6c_A"
   },
   "outputs": [],
   "source": [
    "import xgboost as xgb"
   ]
  },
  {
   "cell_type": "code",
   "execution_count": null,
   "metadata": {
    "id": "WWkPN2Gx6hTe"
   },
   "outputs": [],
   "source": [
    "xgb_classifier = xgb.XGBClassifier(tree_method = \"auto\")"
   ]
  },
  {
   "cell_type": "code",
   "execution_count": null,
   "metadata": {
    "colab": {
     "base_uri": "https://localhost:8080/"
    },
    "id": "K0f1A1eD6jwx",
    "outputId": "223e5fb1-ce37-4af0-e3c1-c0fb382304f9"
   },
   "outputs": [],
   "source": [
    "xgb_classifier.fit(features__, y_train)"
   ]
  },
  {
   "cell_type": "code",
   "execution_count": null,
   "metadata": {
    "id": "MhbapOa6ms3S"
   },
   "outputs": [],
   "source": [
    "predictions = xgb_classifier.predict(X_test_features__)\n",
    "prediction_XG = le.inverse_transform(predictions)"
   ]
  },
  {
   "cell_type": "code",
   "execution_count": null,
   "metadata": {
    "colab": {
     "base_uri": "https://localhost:8080/"
    },
    "id": "lj6-JXcN6w8t",
    "outputId": "e7d53980-9cd6-414c-f959-931186c2041a"
   },
   "outputs": [],
   "source": [
    "print(\"Accuracy of Model::\",metrics.accuracy_score(test_labels, prediction_XG))"
   ]
  },
  {
   "cell_type": "code",
   "execution_count": null,
   "metadata": {
    "id": "QlhzvdxFpn33",
    "outputId": "6b96003a-1d29-4ae8-aa08-9abab3d83c4f"
   },
   "outputs": [],
   "source": [
    "print (\"Accuracy = \", metrics.accuracy_score(test_labels, prediction_XG))\n",
    "print(\"Precision =\", precision_score(test_labels, prediction_XG,average='micro'))\n",
    "print(\"Recall =\",recall_score(test_labels, prediction_XG,average='micro'))\n",
    "print(\"F_1 =\", f1_score(test_labels, prediction_XG,average='micro'))"
   ]
  },
  {
   "cell_type": "code",
   "execution_count": null,
   "metadata": {
    "id": "_I19fYUtpn33",
    "outputId": "b983b99c-afbe-4c09-c225-1801e1d52375"
   },
   "outputs": [],
   "source": [
    "cm = confusion_matrix(test_labels, prediction_XG)\n",
    "import seaborn as sns\n",
    "import matplotlib.pyplot as plt\n",
    "\n",
    "### Confusion Matrix\n",
    "from sklearn.metrics import confusion_matrix\n",
    "#predictions = model.predict(x_test, steps=len(x_test), verbose=0)\n",
    "#y_pred=model.predict(x_test)\n",
    "#y_pred = np.round(y_pred)\n",
    "#y_pred = np.argmax(predictions, axis=-1)\n",
    "\n",
    "#y_true=np.argmax(y_test, axis=-1)\n",
    "\n",
    "#cm = confusion_matrix(y_true, y_pred)\n",
    "\n",
    "## Get Class Labels\n",
    "#labels = le.classes_\n",
    "class_names = labels\n",
    "\n",
    "# Plot confusion matrix in a beautiful manner\n",
    "fig = plt.figure(figsize=(7, 7))\n",
    "ax= plt.subplot()\n",
    "sns.heatmap(cm, annot=True, ax = ax, cmap=\"Blues\", fmt = \"g\"); #annot=True to annotate cells\n",
    "# labels, title and ticks\n",
    "ax.set_xlabel('Predicted', fontsize=15)\n",
    "ax.xaxis.set_label_position('bottom')\n",
    "plt.xticks(rotation=90)\n",
    "ax.xaxis.set_ticklabels(class_names, fontsize = 15)\n",
    "ax.xaxis.tick_bottom()\n",
    "\n",
    "ax.set_ylabel('True', fontsize=15)\n",
    "ax.yaxis.set_ticklabels(class_names, fontsize = 15)\n",
    "plt.yticks(rotation=0)\n",
    "\n",
    "#plt.title('Refined Confusion Matrix', fontsize=15)\n",
    "\n",
    "# plt.savefig('/home/nd/Ankit-Deepto-Btech/Xception_128_128/Xception_XGBoost.png')\n",
    "plt.show()"
   ]
  },
  {
   "cell_type": "markdown",
   "metadata": {
    "id": "_zQ_9EkYTRES"
   },
   "source": [
    "##SVC- Support Vector Classifier"
   ]
  },
  {
   "cell_type": "code",
   "execution_count": null,
   "metadata": {
    "id": "LYaQLqsyEoqp"
   },
   "outputs": [],
   "source": [
    "from sklearn.svm import SVC"
   ]
  },
  {
   "cell_type": "code",
   "execution_count": null,
   "metadata": {
    "id": "US9UenbbEz04"
   },
   "outputs": [],
   "source": [
    "svc = SVC(C=0.65, random_state=0, kernel='rbf')"
   ]
  },
  {
   "cell_type": "code",
   "execution_count": null,
   "metadata": {
    "colab": {
     "base_uri": "https://localhost:8080/"
    },
    "id": "cgbJA3SAFItO",
    "outputId": "2a346684-452b-479f-f79f-ed31b72076e0"
   },
   "outputs": [],
   "source": [
    "svc.fit(features__, y_train)"
   ]
  },
  {
   "cell_type": "code",
   "execution_count": null,
   "metadata": {
    "colab": {
     "base_uri": "https://localhost:8080/"
    },
    "id": "CszwsHEiivpl",
    "outputId": "04ab69b7-2888-4427-9208-3e3eb0b1608b"
   },
   "outputs": [],
   "source": [
    "X_test_features__ = X_test_feature.reshape(X_test_feature.shape[0], -1)\n",
    "X_test_features__.shape"
   ]
  },
  {
   "cell_type": "code",
   "execution_count": null,
   "metadata": {
    "colab": {
     "base_uri": "https://localhost:8080/"
    },
    "id": "SW7JOFOmi4mp",
    "outputId": "76284038-98cf-4244-bd00-4b7388338952"
   },
   "outputs": [],
   "source": [
    "X_test_features = Model.predict(x_test)\n",
    "X_test_features.shape"
   ]
  },
  {
   "cell_type": "code",
   "execution_count": null,
   "metadata": {
    "id": "aeyTqUPdFbKq"
   },
   "outputs": [],
   "source": [
    "predictions = svc.predict(X_test_features__ )\n",
    "prediction_SVC = le.inverse_transform(predictions)"
   ]
  },
  {
   "cell_type": "code",
   "execution_count": null,
   "metadata": {
    "colab": {
     "base_uri": "https://localhost:8080/"
    },
    "id": "uIbN_Ws2Ftfw",
    "outputId": "e39c518e-c5de-4048-825e-f1526b22e428"
   },
   "outputs": [],
   "source": [
    "prediction_SVC"
   ]
  },
  {
   "cell_type": "code",
   "execution_count": null,
   "metadata": {
    "colab": {
     "base_uri": "https://localhost:8080/"
    },
    "id": "-1l0gkD_F3zQ",
    "outputId": "2a32b96d-fbad-45f8-81f4-615b6652c20e"
   },
   "outputs": [],
   "source": [
    "print(\"Accuracy of Model::\",metrics.accuracy_score(test_labels, prediction_SVC))"
   ]
  },
  {
   "cell_type": "code",
   "execution_count": null,
   "metadata": {
    "id": "wkWbdiK0pn35",
    "outputId": "1d373c31-2e20-4d13-d888-f7bbdf8a13dc"
   },
   "outputs": [],
   "source": [
    "print (\"Accuracy = \", metrics.accuracy_score(test_labels, prediction_SVC))\n",
    "print(\"Precision =\", precision_score(test_labels, prediction_SVC,average='micro'))\n",
    "print(\"Recall =\",recall_score(test_labels, prediction_SVC,average='micro'))\n",
    "print(\"F_1 =\", f1_score(test_labels, prediction_SVC,average='micro'))"
   ]
  },
  {
   "cell_type": "code",
   "execution_count": null,
   "metadata": {
    "id": "gGRZ8Qlqpn35",
    "outputId": "2d7c3e12-9437-4d04-8490-9677eb26b168"
   },
   "outputs": [],
   "source": [
    "cm = confusion_matrix(test_labels, prediction_SVC)\n",
    "import seaborn as sns\n",
    "import matplotlib.pyplot as plt\n",
    "\n",
    "### Confusion Matrix\n",
    "from sklearn.metrics import confusion_matrix\n",
    "#predictions = model.predict(x_test, steps=len(x_test), verbose=0)\n",
    "#y_pred=model.predict(x_test)\n",
    "#y_pred = np.round(y_pred)\n",
    "#y_pred = np.argmax(predictions, axis=-1)\n",
    "\n",
    "#y_true=np.argmax(y_test, axis=-1)\n",
    "\n",
    "#cm = confusion_matrix(y_true, y_pred)\n",
    "\n",
    "## Get Class Labels\n",
    "#labels = le.classes_\n",
    "class_names = labels\n",
    "\n",
    "# Plot confusion matrix in a beautiful manner\n",
    "fig = plt.figure(figsize=(7, 7))\n",
    "ax= plt.subplot()\n",
    "sns.heatmap(cm, annot=True, ax = ax, cmap=\"Blues\", fmt = \"g\"); #annot=True to annotate cells\n",
    "# labels, title and ticks\n",
    "ax.set_xlabel('Predicted', fontsize=15)\n",
    "ax.xaxis.set_label_position('bottom')\n",
    "plt.xticks(rotation=90)\n",
    "ax.xaxis.set_ticklabels(class_names, fontsize = 15)\n",
    "ax.xaxis.tick_bottom()\n",
    "\n",
    "ax.set_ylabel('True', fontsize=15)\n",
    "ax.yaxis.set_ticklabels(class_names, fontsize = 15)\n",
    "plt.yticks(rotation=0)\n",
    "\n",
    "#plt.title('Refined Confusion Matrix', fontsize=15)\n",
    "\n",
    "# plt.savefig('/home/nd/Ankit-Deepto-Btech/Xception_128_128/Xception_SVC.png')\n",
    "plt.show()"
   ]
  },
  {
   "cell_type": "code",
   "execution_count": null,
   "metadata": {
    "colab": {
     "base_uri": "https://localhost:8080/"
    },
    "id": "ejt2IR2tsWhg",
    "outputId": "66621156-abe9-4bbe-b349-1c4cde6a4ff9"
   },
   "outputs": [],
   "source": [
    "import numpy as np\n",
    "from sklearn.manifold import TSNE\n",
    "#>>> X = np.array([[0, 0, 0], [0, 1, 1], [1, 0, 1], [1, 1, 1]])\n",
    "X_embedded = TSNE(n_components=3, learning_rate='auto', init='random', perplexity=3).fit_transform(features__)\n",
    "X_embedded.shape"
   ]
  },
  {
   "cell_type": "code",
   "execution_count": null,
   "metadata": {
    "id": "2KfB628Gpn36"
   },
   "outputs": [],
   "source": [
    "import pandas as pd"
   ]
  },
  {
   "cell_type": "code",
   "execution_count": null,
   "metadata": {
    "id": "ZJazPzRttiZ0"
   },
   "outputs": [],
   "source": [
    "df = pd.DataFrame()\n",
    "df[\"y\"] = y_train\n",
    "df[\"comp-1\"] = X_embedded[:,0]\n",
    "df[\"comp-2\"] = X_embedded[:,1]"
   ]
  },
  {
   "cell_type": "code",
   "execution_count": null,
   "metadata": {
    "id": "Pd7kZu5wpn37",
    "outputId": "616ed9ae-0932-420a-e004-03899a6a686b"
   },
   "outputs": [],
   "source": [
    "sns.scatterplot(x=\"comp-1\", y=\"comp-2\", hue=df.y.tolist(),\n",
    "                data=df).set(title=\"\")\n",
    "plt.legend(bbox_to_anchor=(1.02, 1), loc='upper left', borderaxespad=0)\n",
    "# plt.savefig('/home/nd/Ankit-Deepto-Btech/__128_128/TSNE_Train_data.png')\n",
    "plt.show()"
   ]
  },
  {
   "cell_type": "markdown",
   "metadata": {
    "id": "MUeIbGqhTjsz"
   },
   "source": [
    "##ENSEMBLE"
   ]
  },
  {
   "cell_type": "code",
   "execution_count": null,
   "metadata": {
    "id": "CdlQ_b7rOVDH"
   },
   "outputs": [],
   "source": [
    "final_model = VotingClassifier(estimators=[('rf', RF_model), ('xgb', xgb_classifier),('knn',knn),('svc',svc),('lr',lrm)], voting='hard')\n"
   ]
  },
  {
   "cell_type": "code",
   "execution_count": null,
   "metadata": {
    "id": "bpyhP3DdPB5P",
    "outputId": "27f38d60-64c4-4693-f0b8-5f6a1b23a7b7"
   },
   "outputs": [],
   "source": [
    "final_model.fit(features__, y_train)"
   ]
  },
  {
   "cell_type": "code",
   "execution_count": null,
   "metadata": {
    "id": "qOrJu7rTPB5P"
   },
   "outputs": [],
   "source": [
    "predictions = final_model.predict(X_test_features__) # X_test_features\n",
    "prediction_final = le.inverse_transform(predictions)"
   ]
  },
  {
   "cell_type": "code",
   "execution_count": null,
   "metadata": {
    "colab": {
     "base_uri": "https://localhost:8080/"
    },
    "id": "hk959Sc7PB5P",
    "outputId": "608db767-b1e6-4cbe-cb16-5f7e94a7ae34"
   },
   "outputs": [],
   "source": [
    "print(\"Accuracy of Model::\",metrics.accuracy_score(test_labels, prediction_final))"
   ]
  },
  {
   "cell_type": "code",
   "execution_count": null,
   "metadata": {
    "id": "6PV4D3clpn38",
    "outputId": "4126a500-66a6-4324-e376-d4facedf2d16"
   },
   "outputs": [],
   "source": [
    "print(\"Precision =\", precision_score(test_labels, prediction_final,average='micro'))\n",
    "print(\"Recall =\",recall_score(test_labels, prediction_final,average='micro'))\n",
    "print(\"F_1 =\", f1_score(test_labels, prediction_final,average='micro'))"
   ]
  },
  {
   "cell_type": "code",
   "execution_count": null,
   "metadata": {
    "id": "nxskpI60pn38"
   },
   "outputs": [],
   "source": []
  },
  {
   "cell_type": "code",
   "execution_count": null,
   "metadata": {
    "id": "mBvdlZGRpn38",
    "outputId": "a96cf34c-7ac2-418b-8880-cb2fc2196b8d",
    "scrolled": true
   },
   "outputs": [],
   "source": [
    "print(\"Accuracy =\",accuracy_score(test_labels, prediction_final))\n",
    "print(\"Precision =\", precision_score(test_labels, prediction_final,average=None))\n",
    "print(\"Recall =\",recall_score(test_labels, prediction_final,average=None))\n",
    "print(\"F_1 =\", f1_score(test_labels, prediction_final,average=None))"
   ]
  },
  {
   "cell_type": "code",
   "execution_count": null,
   "metadata": {
    "id": "vjQpXwvnpn39",
    "outputId": "22923e55-2d95-411e-9a39-c146e864ac0d"
   },
   "outputs": [],
   "source": [
    "cm = confusion_matrix(test_labels, prediction_final)\n",
    "import seaborn as sns\n",
    "import matplotlib.pyplot as plt\n",
    "\n",
    "### Confusion Matrix\n",
    "from sklearn.metrics import confusion_matrix\n",
    "#predictions = model.predict(x_test, steps=len(x_test), verbose=0)\n",
    "#y_pred=model.predict(x_test)\n",
    "#y_pred = np.round(y_pred)\n",
    "#y_pred = np.argmax(predictions, axis=-1)\n",
    "\n",
    "#y_true=np.argmax(y_test, axis=-1)\n",
    "\n",
    "#cm = confusion_matrix(y_true, y_pred)\n",
    "\n",
    "## Get Class Labels\n",
    "#labels = le.classes_\n",
    "class_names = labels\n",
    "\n",
    "# Plot confusion matrix in a beautiful manner\n",
    "fig = plt.figure(figsize=(7, 7))\n",
    "ax= plt.subplot()\n",
    "sns.heatmap(cm, annot=True, ax = ax, cmap=\"Blues\", fmt = \"g\"); #annot=True to annotate cells\n",
    "# labels, title and ticks\n",
    "ax.set_xlabel('Predicted', fontsize=15)\n",
    "ax.xaxis.set_label_position('bottom')\n",
    "plt.xticks(rotation=90)\n",
    "ax.xaxis.set_ticklabels(class_names, fontsize = 15)\n",
    "ax.xaxis.tick_bottom()\n",
    "\n",
    "ax.set_ylabel('True', fontsize=15)\n",
    "ax.yaxis.set_ticklabels(class_names, fontsize = 15)\n",
    "plt.yticks(rotation=0)\n",
    "\n",
    "#plt.title('Refined Confusion Matrix', fontsize=15)\n",
    "\n",
    "# plt.savefig('/home/nd/Ankit-Deepto-Btech/Xception_128_128/Xception_Ensemble.png')\n",
    "plt.show()"
   ]
  },
  {
   "cell_type": "markdown",
   "metadata": {
    "id": "HMCzs0Nypn39"
   },
   "source": [
    "# CapsNet Model1"
   ]
  },
  {
   "cell_type": "code",
   "execution_count": null,
   "metadata": {
    "id": "ehJwIeyqpn39"
   },
   "outputs": [],
   "source": [
    "from .Capsnet import CapsNet\n",
    "Model = CapsNet(input_shape=(128, 128, 3) , num_classes=3)"
   ]
  },
  {
   "cell_type": "code",
   "execution_count": null,
   "metadata": {
    "colab": {
     "base_uri": "https://localhost:8080/"
    },
    "id": "1SVZ1Kofpn39",
    "outputId": "511f28bf-463f-4fb1-892d-4bd76cb5e4f9",
    "scrolled": true
   },
   "outputs": [],
   "source": [
    "#Make loaded layers as non-trainable. This is important as we want to work with pre-trained weights\n",
    "for layer in Model.layers:\n",
    "    layer.trainable = False\n",
    "\n",
    "Model.summary()  #Trainable parameters will be 0"
   ]
  },
  {
   "cell_type": "code",
   "execution_count": null,
   "metadata": {
    "id": "FDALm-xCpn3-",
    "outputId": "d15d74f0-5a47-4388-bcd8-1e2b46c486d2"
   },
   "outputs": [],
   "source": [
    "#Now, let us use features from convolutional network for RF\n",
    "feature_extractor__=Model.predict(x_train)"
   ]
  },
  {
   "cell_type": "code",
   "execution_count": null,
   "metadata": {
    "id": "a6wsnUXCpn3-",
    "outputId": "785e0246-b848-4482-a0eb-17548ab71976"
   },
   "outputs": [],
   "source": [
    "fe___test=Model.predict(x_test)\n",
    "#fe___test=MobileNet_model.predict(x_test)"
   ]
  },
  {
   "cell_type": "code",
   "execution_count": null,
   "metadata": {
    "id": "J6D1pXAopn3-"
   },
   "outputs": [],
   "source": [
    "features__ = feature_extractor__.reshape(feature_extractor__.shape[0], -1)"
   ]
  },
  {
   "cell_type": "code",
   "execution_count": null,
   "metadata": {
    "id": "hOvmFnOdpn3-"
   },
   "outputs": [],
   "source": [
    "f___test=fe___test.reshape(fe___test.shape[0],-1)"
   ]
  },
  {
   "cell_type": "code",
   "execution_count": null,
   "metadata": {
    "colab": {
     "base_uri": "https://localhost:8080/"
    },
    "id": "dTrdvxbtpn4A",
    "outputId": "46a832c7-00cb-4a24-a4f4-5a696c6a2db1"
   },
   "outputs": [],
   "source": [
    "print(f___test.shape)"
   ]
  },
  {
   "cell_type": "code",
   "execution_count": null,
   "metadata": {
    "id": "JSMAeNT9pn4A"
   },
   "outputs": [],
   "source": [
    "# X_for_RF = features__ #This is our X input to RF"
   ]
  },
  {
   "cell_type": "markdown",
   "metadata": {
    "id": "GyhyW7Qxpn4A"
   },
   "source": [
    "#Machine Learning Models For Classifications"
   ]
  },
  {
   "cell_type": "markdown",
   "metadata": {
    "id": "2nsh9nihpn4A"
   },
   "source": [
    "##K-Nearest Neighbours"
   ]
  },
  {
   "cell_type": "code",
   "execution_count": null,
   "metadata": {
    "id": "TWdB-Vfzpn4A"
   },
   "outputs": [],
   "source": [
    "import math\n",
    "import numpy as np\n",
    "import pandas as pd\n",
    "from datetime import datetime\n",
    "\n",
    "import seaborn as sns\n",
    "import matplotlib.pyplot as plt\n",
    "# %matplotlib inline\n",
    "# plt.style.use('seaborn-whitegrid')\n",
    "\n",
    "from sklearn.neighbors import KNeighborsClassifier\n",
    "from sklearn.metrics import classification_report\n",
    "from sklearn.metrics import confusion_matrix"
   ]
  },
  {
   "cell_type": "code",
   "execution_count": null,
   "metadata": {
    "id": "zGIMBIBKpn4B"
   },
   "outputs": [],
   "source": [
    "knn = KNeighborsClassifier(n_neighbors=10)\n",
    "knn.fit(features__ , y_train)\n",
    "y_pred=knn.predict(f___test)"
   ]
  },
  {
   "cell_type": "code",
   "execution_count": null,
   "metadata": {
    "colab": {
     "base_uri": "https://localhost:8080/"
    },
    "id": "5GpvBeSmpn4B",
    "outputId": "e5c6239f-12c8-4fc7-818d-bbcff647e1ba"
   },
   "outputs": [],
   "source": [
    "from sklearn.metrics import accuracy_score, confusion_matrix , precision_score,   recall_score ,  f1_score\n",
    "acc=accuracy_score(y_test,y_pred)\n",
    "acc"
   ]
  },
  {
   "cell_type": "code",
   "execution_count": null,
   "metadata": {
    "id": "ZNA1mkRUpn4B",
    "outputId": "4c3cbcf5-6b38-4ab1-834b-792d5abaf3e2"
   },
   "outputs": [],
   "source": [
    "precision_score(y_test,y_pred,average='micro')"
   ]
  },
  {
   "cell_type": "code",
   "execution_count": null,
   "metadata": {
    "id": "IlouLcZKpn4B",
    "outputId": "02a735d1-00f1-47b9-836f-45424fb697ea"
   },
   "outputs": [],
   "source": [
    "recall_score(y_test,y_pred,average='micro')"
   ]
  },
  {
   "cell_type": "code",
   "execution_count": null,
   "metadata": {
    "id": "Xc9Xciu6pn4B",
    "outputId": "8a21a335-a55e-4762-db53-97251bbaf3f2"
   },
   "outputs": [],
   "source": [
    "f1_score(y_test,y_pred,average='micro')"
   ]
  },
  {
   "cell_type": "code",
   "execution_count": null,
   "metadata": {
    "id": "Zg83P3n7pn4B"
   },
   "outputs": [],
   "source": [
    "import seaborn as sns\n",
    "import matplotlib.pyplot as plt\n",
    "\n",
    "### Confusion Matrix\n",
    "from sklearn.metrics import confusion_matrix"
   ]
  },
  {
   "cell_type": "code",
   "execution_count": null,
   "metadata": {
    "id": "HtJInuC6pn4B",
    "outputId": "1c1e1790-d560-4450-f743-98c34f6fb060"
   },
   "outputs": [],
   "source": [
    "cm = confusion_matrix(y_test,y_pred)\n",
    "cm"
   ]
  },
  {
   "cell_type": "code",
   "execution_count": null,
   "metadata": {
    "id": "00-pRUHRpn4C",
    "outputId": "d6b85a02-7184-48ce-e2e2-c7e7f0a230e5"
   },
   "outputs": [],
   "source": [
    "import seaborn as sns\n",
    "import matplotlib.pyplot as plt\n",
    "\n",
    "### Confusion Matrix\n",
    "from sklearn.metrics import confusion_matrix\n",
    "#predictions = model.predict(x_test, steps=len(x_test), verbose=0)\n",
    "#y_pred=model.predict(x_test)\n",
    "#y_pred = np.round(y_pred)\n",
    "#y_pred = np.argmax(predictions, axis=-1)\n",
    "\n",
    "#y_true=np.argmax(y_test, axis=-1)\n",
    "\n",
    "#cm = confusion_matrix(y_true, y_pred)\n",
    "\n",
    "## Get Class Labels\n",
    "#labels = le.classes_\n",
    "class_names = labels\n",
    "\n",
    "# Plot confusion matrix in a beautiful manner\n",
    "fig = plt.figure(figsize=(7, 7))\n",
    "ax= plt.subplot()\n",
    "sns.heatmap(cm, annot=True, ax = ax, cmap=\"Blues\", fmt = \"g\"); #annot=True to annotate cells\n",
    "# labels, title and ticks\n",
    "ax.set_xlabel('Predicted', fontsize=15)\n",
    "ax.xaxis.set_label_position('bottom')\n",
    "plt.xticks(rotation=90)\n",
    "ax.xaxis.set_ticklabels(class_names, fontsize = 15)\n",
    "ax.xaxis.tick_bottom()\n",
    "\n",
    "ax.set_ylabel('True', fontsize=15)\n",
    "ax.yaxis.set_ticklabels(class_names, fontsize = 15)\n",
    "plt.yticks(rotation=0)\n",
    "\n",
    "#plt.title('Refined Confusion Matrix', fontsize=15)\n",
    "\n",
    "# plt.savefig('/home/nd/Ankit-Deepto-Btech/Xception_128_128/Xception_KNN.png')\n",
    "plt.show()"
   ]
  },
  {
   "cell_type": "markdown",
   "metadata": {
    "id": "cZtpklPFpn4C"
   },
   "source": [
    "##Logistic Regression"
   ]
  },
  {
   "cell_type": "markdown",
   "metadata": {
    "id": "osjcsgInpn4C"
   },
   "source": [
    "###Used In  Binary and Multiclass Classifications"
   ]
  },
  {
   "cell_type": "code",
   "execution_count": null,
   "metadata": {
    "id": "c-IDbyJBpn4C"
   },
   "outputs": [],
   "source": [
    "import pandas as pd\n",
    "from sklearn.linear_model import LogisticRegression\n",
    "from sklearn.metrics import classification_report\n",
    "from sklearn.metrics import confusion_matrix"
   ]
  },
  {
   "cell_type": "code",
   "execution_count": null,
   "metadata": {
    "colab": {
     "base_uri": "https://localhost:8080/"
    },
    "id": "J2qZ3wLypn4C",
    "outputId": "352c6feb-c7ec-4c4b-da79-69d1480e04f0"
   },
   "outputs": [],
   "source": [
    "features__.shape"
   ]
  },
  {
   "cell_type": "code",
   "execution_count": null,
   "metadata": {
    "colab": {
     "base_uri": "https://localhost:8080/"
    },
    "id": "WGss-NKVpn4C",
    "outputId": "deca51ad-d3ba-46a7-a586-8e79e6b98b55"
   },
   "outputs": [],
   "source": [
    "...\n",
    "# define the multinomial logistic regression model\n",
    "lrm = LogisticRegression(multi_class='multinomial', solver='lbfgs')\n",
    "lrm.fit(features__ , y_train)\n",
    "y_pred_lr=lrm.predict(f___test)"
   ]
  },
  {
   "cell_type": "code",
   "execution_count": null,
   "metadata": {
    "colab": {
     "base_uri": "https://localhost:8080/"
    },
    "id": "r6mZcOoapn4C",
    "outputId": "8a4e9717-034a-45f2-89a2-a9f0a5f03652"
   },
   "outputs": [],
   "source": [
    "from sklearn.metrics import accuracy_score, confusion_matrix , precision_score,   recall_score ,  f1_score\n",
    "acc=accuracy_score(y_test,y_pred_lr)\n",
    "acc"
   ]
  },
  {
   "cell_type": "code",
   "execution_count": null,
   "metadata": {
    "id": "Tumgp9kTpn4D",
    "outputId": "e3bf64db-e604-43d4-8665-8e37565d62e9"
   },
   "outputs": [],
   "source": [
    "precision_score(y_test,y_pred_lr,average=None)"
   ]
  },
  {
   "cell_type": "code",
   "execution_count": null,
   "metadata": {
    "id": "5Qy34yOhpn4D",
    "outputId": "4e9997cd-da39-445a-9eb1-cde64dd5546c"
   },
   "outputs": [],
   "source": [
    "recall_score(y_test,y_pred_lr,average=None)"
   ]
  },
  {
   "cell_type": "code",
   "execution_count": null,
   "metadata": {
    "id": "_f_I77jupn4D",
    "outputId": "068c4761-3046-482b-e94d-5c7474277cbf"
   },
   "outputs": [],
   "source": [
    "f1_score(y_test,y_pred_lr,average=None)"
   ]
  },
  {
   "cell_type": "code",
   "execution_count": null,
   "metadata": {
    "id": "ow0q71UKpn4D",
    "outputId": "2ed85b0b-5eb0-4acd-fac9-5681200fe907"
   },
   "outputs": [],
   "source": [
    "cm = confusion_matrix(y_test,y_pred_lr)\n",
    "cm"
   ]
  },
  {
   "cell_type": "code",
   "execution_count": null,
   "metadata": {
    "id": "SB9bIUGEpn4D",
    "outputId": "1f7d31d6-be3a-4d57-d69e-9acc39bec81b"
   },
   "outputs": [],
   "source": [
    "import seaborn as sns\n",
    "import matplotlib.pyplot as plt\n",
    "\n",
    "### Confusion Matrix\n",
    "from sklearn.metrics import confusion_matrix\n",
    "#predictions = model.predict(x_test, steps=len(x_test), verbose=0)\n",
    "#y_pred=model.predict(x_test)\n",
    "#y_pred = np.round(y_pred)\n",
    "#y_pred = np.argmax(predictions, axis=-1)\n",
    "\n",
    "#y_true=np.argmax(y_test, axis=-1)\n",
    "\n",
    "#cm = confusion_matrix(y_true, y_pred)\n",
    "\n",
    "## Get Class Labels\n",
    "#labels = le.classes_\n",
    "class_names = labels\n",
    "\n",
    "# Plot confusion matrix in a beautiful manner\n",
    "fig = plt.figure(figsize=(7, 7))\n",
    "ax= plt.subplot()\n",
    "sns.heatmap(cm, annot=True, ax = ax, cmap=\"Blues\", fmt = \"g\"); #annot=True to annotate cells\n",
    "# labels, title and ticks\n",
    "ax.set_xlabel('Predicted', fontsize=15)\n",
    "ax.xaxis.set_label_position('bottom')\n",
    "plt.xticks(rotation=90)\n",
    "ax.xaxis.set_ticklabels(class_names, fontsize = 15)\n",
    "ax.xaxis.tick_bottom()\n",
    "\n",
    "ax.set_ylabel('True', fontsize=15)\n",
    "ax.yaxis.set_ticklabels(class_names, fontsize = 15)\n",
    "plt.yticks(rotation=0)\n",
    "\n",
    "#plt.title('Refined Confusion Matrix', fontsize=15)\n",
    "\n",
    "# plt.savefig('/home/nd/Ankit-Deepto-Btech/Xception_128_128/XceptionLR.png')\n",
    "plt.show()"
   ]
  },
  {
   "cell_type": "code",
   "execution_count": null,
   "metadata": {
    "colab": {
     "base_uri": "https://localhost:8080/"
    },
    "id": "eAZD3ft8pn4D",
    "outputId": "e1cba501-bd34-40b4-9b01-fa22a5c69aeb"
   },
   "outputs": [],
   "source": [
    "from sklearn.metrics import accuracy_score, confusion_matrix , precision_score,   recall_score ,  f1_score\n",
    "acc=accuracy_score(y_test,y_pred_lr)\n",
    "acc"
   ]
  },
  {
   "cell_type": "markdown",
   "metadata": {
    "id": "qk35jDBYpn4E"
   },
   "source": [
    "##Random Forest"
   ]
  },
  {
   "cell_type": "code",
   "execution_count": null,
   "metadata": {
    "id": "dK2m9QUSpn4E"
   },
   "outputs": [],
   "source": [
    "#RANDOM FOREST\n",
    "from sklearn.ensemble import RandomForestClassifier\n",
    "RF_model = RandomForestClassifier(n_estimators = 50, random_state = 42)"
   ]
  },
  {
   "cell_type": "code",
   "execution_count": null,
   "metadata": {
    "colab": {
     "base_uri": "https://localhost:8080/"
    },
    "id": "UdCiM5v8pn4E",
    "outputId": "ae4052be-e943-4b95-8498-e04b9e9bd395"
   },
   "outputs": [],
   "source": [
    "# Train the model on training data\n",
    "RF_model.fit(features__, y_train) #For sklearn no one hot encoding"
   ]
  },
  {
   "cell_type": "code",
   "execution_count": null,
   "metadata": {
    "colab": {
     "base_uri": "https://localhost:8080/"
    },
    "id": "_b_qR32Ipn4E",
    "outputId": "5548791a-46c2-46fc-cb29-e1dfd9aced5e"
   },
   "outputs": [],
   "source": [
    "print(RF_model.score(features__, y_train))"
   ]
  },
  {
   "cell_type": "code",
   "execution_count": null,
   "metadata": {
    "id": "tkaGgHhkpn4E",
    "outputId": "e2bce64d-414b-485d-b3dd-2b8b897cc055"
   },
   "outputs": [],
   "source": [
    "#Send test data through same feature extractor process\n",
    "X_test_feature = Model.predict(x_test)\n",
    "\n"
   ]
  },
  {
   "cell_type": "code",
   "execution_count": null,
   "metadata": {
    "id": "z3jY06hlpn4F"
   },
   "outputs": [],
   "source": [
    "X_test_features__ = X_test_feature.reshape(X_test_feature.shape[0], -1)"
   ]
  },
  {
   "cell_type": "code",
   "execution_count": null,
   "metadata": {
    "colab": {
     "base_uri": "https://localhost:8080/"
    },
    "id": "TWFxitvipn4F",
    "outputId": "fd562826-81a1-4e96-fda6-b18776f1809c"
   },
   "outputs": [],
   "source": [
    "print(X_test_feature.shape)"
   ]
  },
  {
   "cell_type": "code",
   "execution_count": null,
   "metadata": {
    "id": "Ul8rzX1Bpn4F"
   },
   "outputs": [],
   "source": [
    "#Now predict using the trained RF model.\n",
    "prediction_RF = RF_model.predict(X_test_features__)\n",
    "#Inverse le transform to get original label back.\n",
    "prediction_RF = le.inverse_transform(prediction_RF)"
   ]
  },
  {
   "cell_type": "code",
   "execution_count": null,
   "metadata": {
    "colab": {
     "base_uri": "https://localhost:8080/"
    },
    "id": "hQjYkl13pn4F",
    "outputId": "6443dfc5-71b5-4bd7-d236-18f43e8c976f"
   },
   "outputs": [],
   "source": [
    "print(prediction_RF.shape)"
   ]
  },
  {
   "cell_type": "code",
   "execution_count": null,
   "metadata": {
    "colab": {
     "base_uri": "https://localhost:8080/"
    },
    "id": "FKMafRsfpn4F",
    "outputId": "355c0bb1-afe2-4269-e05b-42f782b520c2"
   },
   "outputs": [],
   "source": [
    "print(test_labels.shape)"
   ]
  },
  {
   "cell_type": "code",
   "execution_count": null,
   "metadata": {
    "colab": {
     "base_uri": "https://localhost:8080/"
    },
    "id": "9rRaxju8pn4F",
    "outputId": "d5b3e0eb-e6b4-45f8-c9e5-33849354a468"
   },
   "outputs": [],
   "source": [
    "#Print overall accuracy\n",
    "from sklearn import metrics\n",
    "print (\"Accuracy = \", metrics.accuracy_score(test_labels, prediction_RF))"
   ]
  },
  {
   "cell_type": "code",
   "execution_count": null,
   "metadata": {
    "id": "X5x-tgJCpn4F",
    "outputId": "659a3a35-dcaa-45c0-8710-fbdc6179942f"
   },
   "outputs": [],
   "source": [
    "print (\"Accuracy = \", metrics.accuracy_score(test_labels, prediction_RF))\n",
    "print(\"Precision =\", precision_score(test_labels,prediction_RF,average='micro'))\n",
    "print(\"Recall =\",recall_score(test_labels,prediction_RF,average='micro'))\n",
    "print(\"F_1 =\", f1_score(test_labels,prediction_RF,average='micro'))"
   ]
  },
  {
   "cell_type": "code",
   "execution_count": null,
   "metadata": {
    "id": "Un4l3DM8pn4G",
    "outputId": "a702c239-568d-411d-dfb5-9ba053211cb9"
   },
   "outputs": [],
   "source": [
    "cm = confusion_matrix(test_labels,prediction_RF)\n",
    "import seaborn as sns\n",
    "import matplotlib.pyplot as plt\n",
    "\n",
    "### Confusion Matrix\n",
    "from sklearn.metrics import confusion_matrix\n",
    "#predictions = model.predict(x_test, steps=len(x_test), verbose=0)\n",
    "#y_pred=model.predict(x_test)\n",
    "#y_pred = np.round(y_pred)\n",
    "#y_pred = np.argmax(predictions, axis=-1)\n",
    "\n",
    "#y_true=np.argmax(y_test, axis=-1)\n",
    "\n",
    "#cm = confusion_matrix(y_true, y_pred)\n",
    "\n",
    "## Get Class Labels\n",
    "#labels = le.classes_\n",
    "class_names = labels\n",
    "\n",
    "# Plot confusion matrix in a beautiful manner\n",
    "fig = plt.figure(figsize=(7, 7))\n",
    "ax= plt.subplot()\n",
    "sns.heatmap(cm, annot=True, ax = ax, cmap=\"Blues\", fmt = \"g\"); #annot=True to annotate cells\n",
    "# labels, title and ticks\n",
    "ax.set_xlabel('Predicted', fontsize=15)\n",
    "ax.xaxis.set_label_position('bottom')\n",
    "plt.xticks(rotation=90)\n",
    "ax.xaxis.set_ticklabels(class_names, fontsize = 15)\n",
    "ax.xaxis.tick_bottom()\n",
    "\n",
    "ax.set_ylabel('True', fontsize=15)\n",
    "ax.yaxis.set_ticklabels(class_names, fontsize = 15)\n",
    "plt.yticks(rotation=0)\n",
    "\n",
    "#plt.title('Refined Confusion Matrix', fontsize=15)\n",
    "\n",
    "# plt.savefig('/home/nd/Ankit-Deepto-Btech/Xception_128_128/Xception_RandomForest.png')\n",
    "plt.show()"
   ]
  },
  {
   "cell_type": "markdown",
   "metadata": {
    "id": "q8LgAZRjpn4G"
   },
   "source": [
    "##XGBoost"
   ]
  },
  {
   "cell_type": "code",
   "execution_count": null,
   "metadata": {
    "id": "hJ9HTX4upn4G"
   },
   "outputs": [],
   "source": [
    "import xgboost as xgb"
   ]
  },
  {
   "cell_type": "code",
   "execution_count": null,
   "metadata": {
    "id": "Uvkcowvspn4G"
   },
   "outputs": [],
   "source": [
    "xgb_classifier = xgb.XGBClassifier(tree_method = \"auto\")"
   ]
  },
  {
   "cell_type": "code",
   "execution_count": null,
   "metadata": {
    "colab": {
     "base_uri": "https://localhost:8080/"
    },
    "id": "DlVJ4daipn4G",
    "outputId": "223e5fb1-ce37-4af0-e3c1-c0fb382304f9"
   },
   "outputs": [],
   "source": [
    "xgb_classifier.fit(features__, y_train)"
   ]
  },
  {
   "cell_type": "code",
   "execution_count": null,
   "metadata": {
    "id": "P5TULizNpn4H"
   },
   "outputs": [],
   "source": [
    "predictions = xgb_classifier.predict(X_test_features__)\n",
    "prediction_XG = le.inverse_transform(predictions)"
   ]
  },
  {
   "cell_type": "code",
   "execution_count": null,
   "metadata": {
    "colab": {
     "base_uri": "https://localhost:8080/"
    },
    "id": "K6q8Fjarpn4H",
    "outputId": "e7d53980-9cd6-414c-f959-931186c2041a"
   },
   "outputs": [],
   "source": [
    "print(\"Accuracy of Model::\",metrics.accuracy_score(test_labels, prediction_XG))"
   ]
  },
  {
   "cell_type": "code",
   "execution_count": null,
   "metadata": {
    "id": "qPlFYlVOpn4H",
    "outputId": "82cac8a7-9b83-4710-fb88-31282a55ce66"
   },
   "outputs": [],
   "source": [
    "print (\"Accuracy = \", metrics.accuracy_score(test_labels, prediction_XG))\n",
    "print(\"Precision =\", precision_score(test_labels, prediction_XG,average='micro'))\n",
    "print(\"Recall =\",recall_score(test_labels, prediction_XG,average='micro'))\n",
    "print(\"F_1 =\", f1_score(test_labels, prediction_XG,average='micro'))"
   ]
  },
  {
   "cell_type": "code",
   "execution_count": null,
   "metadata": {
    "id": "THU-jRYCpn4H",
    "outputId": "9c4f2c8a-21b0-4601-c08a-e79f0ab78253"
   },
   "outputs": [],
   "source": [
    "cm = confusion_matrix(test_labels, prediction_XG)\n",
    "import seaborn as sns\n",
    "import matplotlib.pyplot as plt\n",
    "\n",
    "### Confusion Matrix\n",
    "from sklearn.metrics import confusion_matrix\n",
    "#predictions = model.predict(x_test, steps=len(x_test), verbose=0)\n",
    "#y_pred=model.predict(x_test)\n",
    "#y_pred = np.round(y_pred)\n",
    "#y_pred = np.argmax(predictions, axis=-1)\n",
    "\n",
    "#y_true=np.argmax(y_test, axis=-1)\n",
    "\n",
    "#cm = confusion_matrix(y_true, y_pred)\n",
    "\n",
    "## Get Class Labels\n",
    "#labels = le.classes_\n",
    "class_names = labels\n",
    "\n",
    "# Plot confusion matrix in a beautiful manner\n",
    "fig = plt.figure(figsize=(7, 7))\n",
    "ax= plt.subplot()\n",
    "sns.heatmap(cm, annot=True, ax = ax, cmap=\"Blues\", fmt = \"g\"); #annot=True to annotate cells\n",
    "# labels, title and ticks\n",
    "ax.set_xlabel('Predicted', fontsize=15)\n",
    "ax.xaxis.set_label_position('bottom')\n",
    "plt.xticks(rotation=90)\n",
    "ax.xaxis.set_ticklabels(class_names, fontsize = 15)\n",
    "ax.xaxis.tick_bottom()\n",
    "\n",
    "ax.set_ylabel('True', fontsize=15)\n",
    "ax.yaxis.set_ticklabels(class_names, fontsize = 15)\n",
    "plt.yticks(rotation=0)\n",
    "\n",
    "#plt.title('Refined Confusion Matrix', fontsize=15)\n",
    "\n",
    "# plt.savefig('/home/nd/Ankit-Deepto-Btech/Xception_128_128/Xception_XGBoost.png')\n",
    "plt.show()"
   ]
  },
  {
   "cell_type": "markdown",
   "metadata": {
    "id": "vRyE7Sripn4H"
   },
   "source": [
    "##SVC- Support Vector Classifier"
   ]
  },
  {
   "cell_type": "code",
   "execution_count": null,
   "metadata": {
    "id": "8-nDY1xupn4H"
   },
   "outputs": [],
   "source": [
    "from sklearn.svm import SVC"
   ]
  },
  {
   "cell_type": "code",
   "execution_count": null,
   "metadata": {
    "id": "fWdVF2yApn4H"
   },
   "outputs": [],
   "source": [
    "svc = SVC(C=0.65, random_state=0, kernel='rbf')"
   ]
  },
  {
   "cell_type": "code",
   "execution_count": null,
   "metadata": {
    "colab": {
     "base_uri": "https://localhost:8080/"
    },
    "id": "KVfZvZJupn4H",
    "outputId": "2a346684-452b-479f-f79f-ed31b72076e0"
   },
   "outputs": [],
   "source": [
    "svc.fit(features__, y_train)"
   ]
  },
  {
   "cell_type": "code",
   "execution_count": null,
   "metadata": {
    "colab": {
     "base_uri": "https://localhost:8080/"
    },
    "id": "LxOrjLb_pn4I",
    "outputId": "04ab69b7-2888-4427-9208-3e3eb0b1608b"
   },
   "outputs": [],
   "source": [
    "X_test_features__ = X_test_feature.reshape(X_test_feature.shape[0], -1)\n",
    "X_test_features__.shape"
   ]
  },
  {
   "cell_type": "code",
   "execution_count": null,
   "metadata": {
    "colab": {
     "base_uri": "https://localhost:8080/"
    },
    "id": "tTcsW3M3pn4I",
    "outputId": "76284038-98cf-4244-bd00-4b7388338952"
   },
   "outputs": [],
   "source": [
    "X_test_features = Model.predict(x_test)\n",
    "X_test_features.shape"
   ]
  },
  {
   "cell_type": "code",
   "execution_count": null,
   "metadata": {
    "id": "JEA6wLrmpn4I"
   },
   "outputs": [],
   "source": [
    "predictions = svc.predict(X_test_features__ )\n",
    "prediction_SVC = le.inverse_transform(predictions)"
   ]
  },
  {
   "cell_type": "code",
   "execution_count": null,
   "metadata": {
    "colab": {
     "base_uri": "https://localhost:8080/"
    },
    "id": "UhphCsFrpn4I",
    "outputId": "e39c518e-c5de-4048-825e-f1526b22e428"
   },
   "outputs": [],
   "source": [
    "prediction_SVC"
   ]
  },
  {
   "cell_type": "code",
   "execution_count": null,
   "metadata": {
    "colab": {
     "base_uri": "https://localhost:8080/"
    },
    "id": "TXN_DC71pn4I",
    "outputId": "2a32b96d-fbad-45f8-81f4-615b6652c20e"
   },
   "outputs": [],
   "source": [
    "print(\"Accuracy of Model::\",metrics.accuracy_score(test_labels, prediction_SVC))"
   ]
  },
  {
   "cell_type": "code",
   "execution_count": null,
   "metadata": {
    "id": "Ta8hoSlgpn4I",
    "outputId": "728c0588-dc7a-4e52-851d-4143ee9be0c9"
   },
   "outputs": [],
   "source": [
    "print (\"Accuracy = \", metrics.accuracy_score(test_labels, prediction_SVC))\n",
    "print(\"Precision =\", precision_score(test_labels, prediction_SVC,average='micro'))\n",
    "print(\"Recall =\",recall_score(test_labels, prediction_SVC,average='micro'))\n",
    "print(\"F_1 =\", f1_score(test_labels, prediction_SVC,average='micro'))"
   ]
  },
  {
   "cell_type": "code",
   "execution_count": null,
   "metadata": {
    "id": "TWV-SxRopn4I",
    "outputId": "42fcd946-39bb-4494-f371-d0f2e5b5eb6f"
   },
   "outputs": [],
   "source": [
    "cm = confusion_matrix(test_labels, prediction_SVC)\n",
    "import seaborn as sns\n",
    "import matplotlib.pyplot as plt\n",
    "\n",
    "### Confusion Matrix\n",
    "from sklearn.metrics import confusion_matrix\n",
    "#predictions = model.predict(x_test, steps=len(x_test), verbose=0)\n",
    "#y_pred=model.predict(x_test)\n",
    "#y_pred = np.round(y_pred)\n",
    "#y_pred = np.argmax(predictions, axis=-1)\n",
    "\n",
    "#y_true=np.argmax(y_test, axis=-1)\n",
    "\n",
    "#cm = confusion_matrix(y_true, y_pred)\n",
    "\n",
    "## Get Class Labels\n",
    "#labels = le.classes_\n",
    "class_names = labels\n",
    "\n",
    "# Plot confusion matrix in a beautiful manner\n",
    "fig = plt.figure(figsize=(7, 7))\n",
    "ax= plt.subplot()\n",
    "sns.heatmap(cm, annot=True, ax = ax, cmap=\"Blues\", fmt = \"g\"); #annot=True to annotate cells\n",
    "# labels, title and ticks\n",
    "ax.set_xlabel('Predicted', fontsize=15)\n",
    "ax.xaxis.set_label_position('bottom')\n",
    "plt.xticks(rotation=90)\n",
    "ax.xaxis.set_ticklabels(class_names, fontsize = 15)\n",
    "ax.xaxis.tick_bottom()\n",
    "\n",
    "ax.set_ylabel('True', fontsize=15)\n",
    "ax.yaxis.set_ticklabels(class_names, fontsize = 15)\n",
    "plt.yticks(rotation=0)\n",
    "\n",
    "#plt.title('Refined Confusion Matrix', fontsize=15)\n",
    "\n",
    "# plt.savefig('/home/nd/Ankit-Deepto-Btech/Xception_128_128/Xception_SVC.png')\n",
    "plt.show()"
   ]
  },
  {
   "cell_type": "code",
   "execution_count": null,
   "metadata": {
    "colab": {
     "base_uri": "https://localhost:8080/"
    },
    "id": "YU4jNBbdpn4K",
    "outputId": "66621156-abe9-4bbe-b349-1c4cde6a4ff9"
   },
   "outputs": [],
   "source": [
    "import numpy as np\n",
    "from sklearn.manifold import TSNE\n",
    "#>>> X = np.array([[0, 0, 0], [0, 1, 1], [1, 0, 1], [1, 1, 1]])\n",
    "X_embedded = TSNE(n_components=3, learning_rate='auto', init='random', perplexity=3).fit_transform(features__)\n",
    "X_embedded.shape"
   ]
  },
  {
   "cell_type": "code",
   "execution_count": null,
   "metadata": {
    "id": "UJksXIkKpn4K"
   },
   "outputs": [],
   "source": [
    "import pandas as pd"
   ]
  },
  {
   "cell_type": "code",
   "execution_count": null,
   "metadata": {
    "id": "plXXXUbepn4K"
   },
   "outputs": [],
   "source": [
    "df = pd.DataFrame()\n",
    "df[\"y\"] = y_train\n",
    "df[\"comp-1\"] = X_embedded[:,0]\n",
    "df[\"comp-2\"] = X_embedded[:,1]"
   ]
  },
  {
   "cell_type": "code",
   "execution_count": null,
   "metadata": {
    "id": "sowlxDIHpn4K",
    "outputId": "4f011416-a1dc-465e-820e-f5d9ba7ef5c4"
   },
   "outputs": [],
   "source": [
    "sns.scatterplot(x=\"comp-1\", y=\"comp-2\", hue=df.y.tolist(),\n",
    "                data=df).set(title=\"\")\n",
    "plt.legend(bbox_to_anchor=(1.02, 1), loc='upper left', borderaxespad=0)\n",
    "# plt.savefig('/home/nd/Ankit-Deepto-Btech/__128_128/TSNE_Train_data.png')\n",
    "plt.show()"
   ]
  },
  {
   "cell_type": "markdown",
   "metadata": {
    "id": "XdWC4v7Npn4L"
   },
   "source": [
    "##ENSEMBLE"
   ]
  },
  {
   "cell_type": "code",
   "execution_count": null,
   "metadata": {
    "id": "mwJnQE0bpn4L"
   },
   "outputs": [],
   "source": [
    "final_model_1 = VotingClassifier(estimators=[('rf', RF_model), ('xgb', xgb_classifier),('knn',knn),('svc',svc),('lr',lrm)], voting='hard')\n"
   ]
  },
  {
   "cell_type": "code",
   "execution_count": null,
   "metadata": {
    "id": "HxqsBLoipn4L",
    "outputId": "f670ba16-aca4-42ac-c3eb-aa7a1552c756"
   },
   "outputs": [],
   "source": [
    "final_model_1.fit(features__, y_train)"
   ]
  },
  {
   "cell_type": "code",
   "execution_count": null,
   "metadata": {
    "id": "3hS5zzbjpn4L"
   },
   "outputs": [],
   "source": [
    "predictions = final_model_1.predict(X_test_features__) # X_test_features\n",
    "prediction_final = le.inverse_transform(predictions)"
   ]
  },
  {
   "cell_type": "code",
   "execution_count": null,
   "metadata": {
    "colab": {
     "base_uri": "https://localhost:8080/"
    },
    "id": "CeQiKlJopn4M",
    "outputId": "608db767-b1e6-4cbe-cb16-5f7e94a7ae34"
   },
   "outputs": [],
   "source": [
    "print(\"Accuracy of Model::\",metrics.accuracy_score(test_labels, prediction_final))"
   ]
  },
  {
   "cell_type": "code",
   "execution_count": null,
   "metadata": {
    "id": "SjviOCyspn4M",
    "outputId": "4f36deb4-44f6-4a6f-ff2c-8b738de90bdf"
   },
   "outputs": [],
   "source": [
    "print(\"Precision =\", precision_score(test_labels, prediction_final,average='micro'))\n",
    "print(\"Recall =\",recall_score(test_labels, prediction_final,average='micro'))\n",
    "print(\"F_1 =\", f1_score(test_labels, prediction_final,average='micro'))"
   ]
  },
  {
   "cell_type": "code",
   "execution_count": null,
   "metadata": {
    "id": "0cpCvam6pn4M",
    "outputId": "66d3f720-d1dd-45cb-bcb9-62058144fdad",
    "scrolled": true
   },
   "outputs": [],
   "source": [
    "print(\"Accuracy =\",accuracy_score(test_labels, prediction_final))\n",
    "print(\"Precision =\", precision_score(test_labels, prediction_final,average=None))\n",
    "print(\"Recall =\",recall_score(test_labels, prediction_final,average=None))\n",
    "print(\"F_1 =\", f1_score(test_labels, prediction_final,average=None))"
   ]
  },
  {
   "cell_type": "code",
   "execution_count": null,
   "metadata": {
    "id": "dYBCkbX3pn4M"
   },
   "outputs": [],
   "source": [
    "cm = confusion_matrix(test_labels, prediction_final)\n",
    "import seaborn as sns\n",
    "import matplotlib.pyplot as plt\n",
    "\n",
    "### Confusion Matrix\n",
    "from sklearn.metrics import confusion_matrix\n",
    "#predictions = model.predict(x_test, steps=len(x_test), verbose=0)\n",
    "#y_pred=model.predict(x_test)\n",
    "#y_pred = np.round(y_pred)\n",
    "#y_pred = np.argmax(predictions, axis=-1)\n",
    "\n",
    "#y_true=np.argmax(y_test, axis=-1)\n",
    "\n",
    "#cm = confusion_matrix(y_true, y_pred)\n",
    "\n",
    "## Get Class Labels\n",
    "#labels = le.classes_\n",
    "class_names = labels\n",
    "\n",
    "# Plot confusion matrix in a beautiful manner\n",
    "fig = plt.figure(figsize=(7, 7))\n",
    "ax= plt.subplot()\n",
    "sns.heatmap(cm, annot=True, ax = ax, cmap=\"Blues\", fmt = \"g\"); #annot=True to annotate cells\n",
    "# labels, title and ticks\n",
    "ax.set_xlabel('Predicted', fontsize=15)\n",
    "ax.xaxis.set_label_position('bottom')\n",
    "plt.xticks(rotation=90)\n",
    "ax.xaxis.set_ticklabels(class_names, fontsize = 15)\n",
    "ax.xaxis.tick_bottom()\n",
    "\n",
    "ax.set_ylabel('True', fontsize=15)\n",
    "ax.yaxis.set_ticklabels(class_names, fontsize = 15)\n",
    "plt.yticks(rotation=0)\n",
    "\n",
    "#plt.title('Refined Confusion Matrix', fontsize=15)\n",
    "\n",
    "# plt.savefig('/home/nd/Ankit-Deepto-Btech/Xception_128_128/Xception_Ensemble.png')\n",
    "plt.show()"
   ]
  },
  {
   "cell_type": "markdown",
   "metadata": {
    "id": "dpMrQc7spn4M"
   },
   "source": [
    "# VGG19  Model2"
   ]
  },
  {
   "cell_type": "code",
   "execution_count": null,
   "metadata": {
    "id": "PaiS6Cdapn4M"
   },
   "outputs": [],
   "source": [
    "Model = VGG19(weights='imagenet', include_top=False, input_shape=(128,128, 3))"
   ]
  },
  {
   "cell_type": "code",
   "execution_count": null,
   "metadata": {
    "colab": {
     "base_uri": "https://localhost:8080/"
    },
    "id": "-xyQ45Ncpn4N",
    "outputId": "511f28bf-463f-4fb1-892d-4bd76cb5e4f9"
   },
   "outputs": [],
   "source": [
    "#Make loaded layers as non-trainable. This is important as we want to work with pre-trained weights\n",
    "for layer in Model.layers:\n",
    "\tlayer.trainable = False\n",
    "\n",
    "Model.summary()  #Trainable parameters will be 0"
   ]
  },
  {
   "cell_type": "code",
   "execution_count": null,
   "metadata": {
    "id": "a7ZHMFxvpn4N",
    "outputId": "1b1c2f8e-9754-45a8-8623-526cd3d6424c"
   },
   "outputs": [],
   "source": [
    "#Now, let us use features from convolutional network for RF\n",
    "feature_extractor__=Model.predict(x_train)"
   ]
  },
  {
   "cell_type": "code",
   "execution_count": null,
   "metadata": {
    "id": "zryw-Mywpn4N",
    "outputId": "d3a365ff-38d0-43a9-eac2-624331f32608"
   },
   "outputs": [],
   "source": [
    "fe___test=Model.predict(x_test)\n",
    "#fe___test=MobileNet_model.predict(x_test)"
   ]
  },
  {
   "cell_type": "code",
   "execution_count": null,
   "metadata": {
    "id": "lnI63Sg4pn4N"
   },
   "outputs": [],
   "source": [
    "features__ = feature_extractor__.reshape(feature_extractor__.shape[0], -1)"
   ]
  },
  {
   "cell_type": "code",
   "execution_count": null,
   "metadata": {
    "id": "ZZvUa7YPpn4N"
   },
   "outputs": [],
   "source": [
    "f___test=fe___test.reshape(fe___test.shape[0],-1)"
   ]
  },
  {
   "cell_type": "code",
   "execution_count": null,
   "metadata": {
    "colab": {
     "base_uri": "https://localhost:8080/"
    },
    "id": "V9ecxuz3pn4N",
    "outputId": "46a832c7-00cb-4a24-a4f4-5a696c6a2db1"
   },
   "outputs": [],
   "source": [
    "print(f___test.shape)"
   ]
  },
  {
   "cell_type": "code",
   "execution_count": null,
   "metadata": {
    "id": "FZJG9qNspn4N"
   },
   "outputs": [],
   "source": [
    "# X_for_RF = features__ #This is our X input to RF"
   ]
  },
  {
   "cell_type": "markdown",
   "metadata": {
    "id": "KT480y8rpn4N"
   },
   "source": [
    "#Machine Learning Models For Classifications"
   ]
  },
  {
   "cell_type": "markdown",
   "metadata": {
    "id": "6mmZwYzmpn4N"
   },
   "source": [
    "##K-Nearest Neighbours"
   ]
  },
  {
   "cell_type": "code",
   "execution_count": null,
   "metadata": {
    "id": "X0YRCSrwpn4O"
   },
   "outputs": [],
   "source": [
    "import math\n",
    "import numpy as np\n",
    "import pandas as pd\n",
    "from datetime import datetime\n",
    "\n",
    "import seaborn as sns\n",
    "import matplotlib.pyplot as plt\n",
    "# %matplotlib inline\n",
    "# plt.style.use('seaborn-whitegrid')\n",
    "\n",
    "from sklearn.neighbors import KNeighborsClassifier\n",
    "from sklearn.metrics import classification_report\n",
    "from sklearn.metrics import confusion_matrix"
   ]
  },
  {
   "cell_type": "code",
   "execution_count": null,
   "metadata": {
    "id": "8RPSgP7Ipn4O"
   },
   "outputs": [],
   "source": [
    "knn = KNeighborsClassifier(n_neighbors=10)\n",
    "knn.fit(features__ , y_train)\n",
    "y_pred=knn.predict(f___test)"
   ]
  },
  {
   "cell_type": "code",
   "execution_count": null,
   "metadata": {
    "colab": {
     "base_uri": "https://localhost:8080/"
    },
    "id": "8GKXV8Zvpn4O",
    "outputId": "e5c6239f-12c8-4fc7-818d-bbcff647e1ba"
   },
   "outputs": [],
   "source": [
    "from sklearn.metrics import accuracy_score, confusion_matrix , precision_score,   recall_score ,  f1_score\n",
    "acc=accuracy_score(y_test,y_pred)\n",
    "acc"
   ]
  },
  {
   "cell_type": "code",
   "execution_count": null,
   "metadata": {
    "id": "KaPO2_ACpn4O",
    "outputId": "17fc4da3-e265-443a-b5af-e0765dbbdde2"
   },
   "outputs": [],
   "source": [
    "precision_score(y_test,y_pred,average='micro')"
   ]
  },
  {
   "cell_type": "code",
   "execution_count": null,
   "metadata": {
    "id": "sIDmL-l9pn4O",
    "outputId": "56135d39-9d76-4294-e05c-574bcda50685"
   },
   "outputs": [],
   "source": [
    "recall_score(y_test,y_pred,average='micro')"
   ]
  },
  {
   "cell_type": "code",
   "execution_count": null,
   "metadata": {
    "id": "-jApjh14pn4O",
    "outputId": "487c74af-9fb7-4d1c-9989-6eadc1160016"
   },
   "outputs": [],
   "source": [
    "f1_score(y_test,y_pred,average='micro')"
   ]
  },
  {
   "cell_type": "code",
   "execution_count": null,
   "metadata": {
    "id": "l33bxsTKpn4O"
   },
   "outputs": [],
   "source": [
    "import seaborn as sns\n",
    "import matplotlib.pyplot as plt\n",
    "\n",
    "### Confusion Matrix\n",
    "from sklearn.metrics import confusion_matrix"
   ]
  },
  {
   "cell_type": "code",
   "execution_count": null,
   "metadata": {
    "id": "YUakP682pn4O"
   },
   "outputs": [],
   "source": [
    "cm = confusion_matrix(y_test,y_pred)\n",
    "cm"
   ]
  },
  {
   "cell_type": "code",
   "execution_count": null,
   "metadata": {
    "id": "b_o-pZXapn4P"
   },
   "outputs": [],
   "source": [
    "import seaborn as sns\n",
    "import matplotlib.pyplot as plt\n",
    "\n",
    "### Confusion Matrix\n",
    "from sklearn.metrics import confusion_matrix\n",
    "#predictions = model.predict(x_test, steps=len(x_test), verbose=0)\n",
    "#y_pred=model.predict(x_test)\n",
    "#y_pred = np.round(y_pred)\n",
    "#y_pred = np.argmax(predictions, axis=-1)\n",
    "\n",
    "#y_true=np.argmax(y_test, axis=-1)\n",
    "\n",
    "#cm = confusion_matrix(y_true, y_pred)\n",
    "\n",
    "## Get Class Labels\n",
    "#labels = le.classes_\n",
    "class_names = labels\n",
    "\n",
    "# Plot confusion matrix in a beautiful manner\n",
    "fig = plt.figure(figsize=(7, 7))\n",
    "ax= plt.subplot()\n",
    "sns.heatmap(cm, annot=True, ax = ax, cmap=\"Blues\", fmt = \"g\"); #annot=True to annotate cells\n",
    "# labels, title and ticks\n",
    "ax.set_xlabel('Predicted', fontsize=15)\n",
    "ax.xaxis.set_label_position('bottom')\n",
    "plt.xticks(rotation=90)\n",
    "ax.xaxis.set_ticklabels(class_names, fontsize = 15)\n",
    "ax.xaxis.tick_bottom()\n",
    "\n",
    "ax.set_ylabel('True', fontsize=15)\n",
    "ax.yaxis.set_ticklabels(class_names, fontsize = 15)\n",
    "plt.yticks(rotation=0)\n",
    "\n",
    "#plt.title('Refined Confusion Matrix', fontsize=15)\n",
    "\n",
    "# plt.savefig('/home/nd/Ankit-Deepto-Btech/Xception_128_128/Xception_KNN.png')\n",
    "plt.show()"
   ]
  },
  {
   "cell_type": "markdown",
   "metadata": {
    "id": "GI6EW_Kwpn4P"
   },
   "source": [
    "##Logistic Regression"
   ]
  },
  {
   "cell_type": "markdown",
   "metadata": {
    "id": "vSinrOA-pn4P"
   },
   "source": [
    "###Used In  Binary and Multiclass Classifications"
   ]
  },
  {
   "cell_type": "code",
   "execution_count": null,
   "metadata": {
    "id": "uphZ4imGpn4P"
   },
   "outputs": [],
   "source": [
    "import pandas as pd\n",
    "from sklearn.linear_model import LogisticRegression\n",
    "from sklearn.metrics import classification_report\n",
    "from sklearn.metrics import confusion_matrix"
   ]
  },
  {
   "cell_type": "code",
   "execution_count": null,
   "metadata": {
    "colab": {
     "base_uri": "https://localhost:8080/"
    },
    "id": "B3renDGepn4P",
    "outputId": "352c6feb-c7ec-4c4b-da79-69d1480e04f0"
   },
   "outputs": [],
   "source": [
    "features__.shape"
   ]
  },
  {
   "cell_type": "code",
   "execution_count": null,
   "metadata": {
    "colab": {
     "base_uri": "https://localhost:8080/"
    },
    "id": "kBYW7AW4pn4P",
    "outputId": "deca51ad-d3ba-46a7-a586-8e79e6b98b55"
   },
   "outputs": [],
   "source": [
    "...\n",
    "# define the multinomial logistic regression model\n",
    "lrm = LogisticRegression(multi_class='multinomial', solver='lbfgs')\n",
    "lrm.fit(features__ , y_train)\n",
    "y_pred_lr=lrm.predict(f___test)"
   ]
  },
  {
   "cell_type": "code",
   "execution_count": null,
   "metadata": {
    "colab": {
     "base_uri": "https://localhost:8080/"
    },
    "id": "gMehOA6epn4P",
    "outputId": "8a4e9717-034a-45f2-89a2-a9f0a5f03652"
   },
   "outputs": [],
   "source": [
    "from sklearn.metrics import accuracy_score, confusion_matrix , precision_score,   recall_score ,  f1_score\n",
    "acc=accuracy_score(y_test,y_pred_lr)\n",
    "acc"
   ]
  },
  {
   "cell_type": "code",
   "execution_count": null,
   "metadata": {
    "id": "SD6e3I61pn4P",
    "outputId": "0f7ffd7e-35e0-43c4-c38c-93b8c50140fd"
   },
   "outputs": [],
   "source": [
    "precision_score(y_test,y_pred_lr,average=None)"
   ]
  },
  {
   "cell_type": "code",
   "execution_count": null,
   "metadata": {
    "id": "MXSKyUn8pn4P",
    "outputId": "9063112f-7d00-429c-e045-d095ed3f2ffa"
   },
   "outputs": [],
   "source": [
    "recall_score(y_test,y_pred_lr,average=None)"
   ]
  },
  {
   "cell_type": "code",
   "execution_count": null,
   "metadata": {
    "id": "pdSl6Y-_pn4Q",
    "outputId": "a5223f73-86bb-4c4a-f91c-ca44a32e61ac"
   },
   "outputs": [],
   "source": [
    "f1_score(y_test,y_pred_lr,average=None)"
   ]
  },
  {
   "cell_type": "code",
   "execution_count": null,
   "metadata": {
    "id": "q4QJe3NVpn4Q",
    "outputId": "5caa341b-874b-49d7-b35e-c5e058ac76db"
   },
   "outputs": [],
   "source": [
    "cm = confusion_matrix(y_test,y_pred_lr)\n",
    "cm"
   ]
  },
  {
   "cell_type": "code",
   "execution_count": null,
   "metadata": {
    "id": "zhUS62a5pn4Q",
    "outputId": "c7d51e30-c419-4419-818c-63f130960f7b"
   },
   "outputs": [],
   "source": [
    "import seaborn as sns\n",
    "import matplotlib.pyplot as plt\n",
    "\n",
    "### Confusion Matrix\n",
    "from sklearn.metrics import confusion_matrix\n",
    "#predictions = model.predict(x_test, steps=len(x_test), verbose=0)\n",
    "#y_pred=model.predict(x_test)\n",
    "#y_pred = np.round(y_pred)\n",
    "#y_pred = np.argmax(predictions, axis=-1)\n",
    "\n",
    "#y_true=np.argmax(y_test, axis=-1)\n",
    "\n",
    "#cm = confusion_matrix(y_true, y_pred)\n",
    "\n",
    "## Get Class Labels\n",
    "#labels = le.classes_\n",
    "class_names = labels\n",
    "\n",
    "# Plot confusion matrix in a beautiful manner\n",
    "fig = plt.figure(figsize=(7, 7))\n",
    "ax= plt.subplot()\n",
    "sns.heatmap(cm, annot=True, ax = ax, cmap=\"Blues\", fmt = \"g\"); #annot=True to annotate cells\n",
    "# labels, title and ticks\n",
    "ax.set_xlabel('Predicted', fontsize=15)\n",
    "ax.xaxis.set_label_position('bottom')\n",
    "plt.xticks(rotation=90)\n",
    "ax.xaxis.set_ticklabels(class_names, fontsize = 15)\n",
    "ax.xaxis.tick_bottom()\n",
    "\n",
    "ax.set_ylabel('True', fontsize=15)\n",
    "ax.yaxis.set_ticklabels(class_names, fontsize = 15)\n",
    "plt.yticks(rotation=0)\n",
    "\n",
    "#plt.title('Refined Confusion Matrix', fontsize=15)\n",
    "\n",
    "# plt.savefig('/home/nd/Ankit-Deepto-Btech/Xception_128_128/XceptionLR.png')\n",
    "plt.show()"
   ]
  },
  {
   "cell_type": "code",
   "execution_count": null,
   "metadata": {
    "colab": {
     "base_uri": "https://localhost:8080/"
    },
    "id": "ItXk55y1pn4Q",
    "outputId": "e1cba501-bd34-40b4-9b01-fa22a5c69aeb"
   },
   "outputs": [],
   "source": [
    "from sklearn.metrics import accuracy_score, confusion_matrix , precision_score,   recall_score ,  f1_score\n",
    "acc=accuracy_score(y_test,y_pred_lr)\n",
    "acc"
   ]
  },
  {
   "cell_type": "markdown",
   "metadata": {
    "id": "FLl5s3Kvpn4Q"
   },
   "source": [
    "##Random Forest"
   ]
  },
  {
   "cell_type": "code",
   "execution_count": null,
   "metadata": {
    "id": "45gt_QTqpn4Q"
   },
   "outputs": [],
   "source": [
    "#RANDOM FOREST\n",
    "from sklearn.ensemble import RandomForestClassifier\n",
    "RF_model = RandomForestClassifier(n_estimators = 50, random_state = 42)"
   ]
  },
  {
   "cell_type": "code",
   "execution_count": null,
   "metadata": {
    "colab": {
     "base_uri": "https://localhost:8080/"
    },
    "id": "qDExBYdDpn4R",
    "outputId": "ae4052be-e943-4b95-8498-e04b9e9bd395"
   },
   "outputs": [],
   "source": [
    "# Train the model on training data\n",
    "RF_model.fit(features__, y_train) #For sklearn no one hot encoding"
   ]
  },
  {
   "cell_type": "code",
   "execution_count": null,
   "metadata": {
    "colab": {
     "base_uri": "https://localhost:8080/"
    },
    "id": "v4OZ4kWwpn4R",
    "outputId": "5548791a-46c2-46fc-cb29-e1dfd9aced5e"
   },
   "outputs": [],
   "source": [
    "print(RF_model.score(features__, y_train))"
   ]
  },
  {
   "cell_type": "code",
   "execution_count": null,
   "metadata": {
    "id": "GsjBXk4upn4R",
    "outputId": "8ec81b37-8d18-425e-89ba-162108bdbbf0"
   },
   "outputs": [],
   "source": [
    "#Send test data through same feature extractor process\n",
    "X_test_feature = Model.predict(x_test)\n",
    "\n"
   ]
  },
  {
   "cell_type": "code",
   "execution_count": null,
   "metadata": {
    "id": "dIFW40qppn4R"
   },
   "outputs": [],
   "source": [
    "X_test_features__ = X_test_feature.reshape(X_test_feature.shape[0], -1)"
   ]
  },
  {
   "cell_type": "code",
   "execution_count": null,
   "metadata": {
    "colab": {
     "base_uri": "https://localhost:8080/"
    },
    "id": "Pkbtl7TPpn4R",
    "outputId": "fd562826-81a1-4e96-fda6-b18776f1809c"
   },
   "outputs": [],
   "source": [
    "print(X_test_feature.shape)"
   ]
  },
  {
   "cell_type": "code",
   "execution_count": null,
   "metadata": {
    "id": "07cr-Hxnpn4R"
   },
   "outputs": [],
   "source": [
    "#Now predict using the trained RF model.\n",
    "prediction_RF = RF_model.predict(X_test_features__)\n",
    "#Inverse le transform to get original label back.\n",
    "prediction_RF = le.inverse_transform(prediction_RF)"
   ]
  },
  {
   "cell_type": "code",
   "execution_count": null,
   "metadata": {
    "colab": {
     "base_uri": "https://localhost:8080/"
    },
    "id": "f5l_6tM0pn4R",
    "outputId": "6443dfc5-71b5-4bd7-d236-18f43e8c976f"
   },
   "outputs": [],
   "source": [
    "print(prediction_RF.shape)"
   ]
  },
  {
   "cell_type": "code",
   "execution_count": null,
   "metadata": {
    "colab": {
     "base_uri": "https://localhost:8080/"
    },
    "id": "JUVZmJCNpn4S",
    "outputId": "355c0bb1-afe2-4269-e05b-42f782b520c2"
   },
   "outputs": [],
   "source": [
    "print(test_labels.shape)"
   ]
  },
  {
   "cell_type": "code",
   "execution_count": null,
   "metadata": {
    "colab": {
     "base_uri": "https://localhost:8080/"
    },
    "id": "Kxqf4Ef1pn4S",
    "outputId": "d5b3e0eb-e6b4-45f8-c9e5-33849354a468"
   },
   "outputs": [],
   "source": [
    "#Print overall accuracy\n",
    "from sklearn import metrics\n",
    "print (\"Accuracy = \", metrics.accuracy_score(test_labels, prediction_RF))"
   ]
  },
  {
   "cell_type": "code",
   "execution_count": null,
   "metadata": {
    "id": "ROefVKbcpn4S",
    "outputId": "3898c8d0-aa70-40c5-a43d-66a0f2438819"
   },
   "outputs": [],
   "source": [
    "print (\"Accuracy = \", metrics.accuracy_score(test_labels, prediction_RF))\n",
    "print(\"Precision =\", precision_score(test_labels,prediction_RF,average='micro'))\n",
    "print(\"Recall =\",recall_score(test_labels,prediction_RF,average='micro'))\n",
    "print(\"F_1 =\", f1_score(test_labels,prediction_RF,average='micro'))"
   ]
  },
  {
   "cell_type": "code",
   "execution_count": null,
   "metadata": {
    "id": "-_C7qp7vpn4S",
    "outputId": "b48adc6e-bc01-47aa-8d28-72723916d984"
   },
   "outputs": [],
   "source": [
    "cm = confusion_matrix(test_labels,prediction_RF)\n",
    "import seaborn as sns\n",
    "import matplotlib.pyplot as plt\n",
    "\n",
    "### Confusion Matrix\n",
    "from sklearn.metrics import confusion_matrix\n",
    "#predictions = model.predict(x_test, steps=len(x_test), verbose=0)\n",
    "#y_pred=model.predict(x_test)\n",
    "#y_pred = np.round(y_pred)\n",
    "#y_pred = np.argmax(predictions, axis=-1)\n",
    "\n",
    "#y_true=np.argmax(y_test, axis=-1)\n",
    "\n",
    "#cm = confusion_matrix(y_true, y_pred)\n",
    "\n",
    "## Get Class Labels\n",
    "#labels = le.classes_\n",
    "class_names = labels\n",
    "\n",
    "# Plot confusion matrix in a beautiful manner\n",
    "fig = plt.figure(figsize=(7, 7))\n",
    "ax= plt.subplot()\n",
    "sns.heatmap(cm, annot=True, ax = ax, cmap=\"Blues\", fmt = \"g\"); #annot=True to annotate cells\n",
    "# labels, title and ticks\n",
    "ax.set_xlabel('Predicted', fontsize=15)\n",
    "ax.xaxis.set_label_position('bottom')\n",
    "plt.xticks(rotation=90)\n",
    "ax.xaxis.set_ticklabels(class_names, fontsize = 15)\n",
    "ax.xaxis.tick_bottom()\n",
    "\n",
    "ax.set_ylabel('True', fontsize=15)\n",
    "ax.yaxis.set_ticklabels(class_names, fontsize = 15)\n",
    "plt.yticks(rotation=0)\n",
    "\n",
    "#plt.title('Refined Confusion Matrix', fontsize=15)\n",
    "\n",
    "# plt.savefig('/home/nd/Ankit-Deepto-Btech/Xception_128_128/Xception_RandomForest.png')\n",
    "plt.show()"
   ]
  },
  {
   "cell_type": "code",
   "execution_count": null,
   "metadata": {
    "id": "7-38mOzcpn4S"
   },
   "outputs": [],
   "source": []
  },
  {
   "cell_type": "markdown",
   "metadata": {
    "id": "ixBB7vb3pn4S"
   },
   "source": [
    "##XGBoost"
   ]
  },
  {
   "cell_type": "code",
   "execution_count": null,
   "metadata": {
    "id": "5fxvq86ipn4S"
   },
   "outputs": [],
   "source": [
    "import xgboost as xgb"
   ]
  },
  {
   "cell_type": "code",
   "execution_count": null,
   "metadata": {
    "id": "FNUfZlv6pn4T"
   },
   "outputs": [],
   "source": [
    "xgb_classifier = xgb.XGBClassifier(tree_method = \"auto\")"
   ]
  },
  {
   "cell_type": "code",
   "execution_count": null,
   "metadata": {
    "colab": {
     "base_uri": "https://localhost:8080/"
    },
    "id": "h2kAieTcpn4T",
    "outputId": "223e5fb1-ce37-4af0-e3c1-c0fb382304f9"
   },
   "outputs": [],
   "source": [
    "xgb_classifier.fit(features__, y_train)"
   ]
  },
  {
   "cell_type": "code",
   "execution_count": null,
   "metadata": {
    "id": "C1r8upVwpn4T"
   },
   "outputs": [],
   "source": [
    "predictions = xgb_classifier.predict(X_test_features__)\n",
    "prediction_XG = le.inverse_transform(predictions)"
   ]
  },
  {
   "cell_type": "code",
   "execution_count": null,
   "metadata": {
    "colab": {
     "base_uri": "https://localhost:8080/"
    },
    "id": "GJwGF0iJpn4T",
    "outputId": "e7d53980-9cd6-414c-f959-931186c2041a"
   },
   "outputs": [],
   "source": [
    "print(\"Accuracy of Model::\",metrics.accuracy_score(test_labels, prediction_XG))"
   ]
  },
  {
   "cell_type": "code",
   "execution_count": null,
   "metadata": {
    "id": "whOUUYfTpn4T",
    "outputId": "0a2ccf4a-e407-4e58-dfcc-45c1a9f521a0"
   },
   "outputs": [],
   "source": [
    "print (\"Accuracy = \", metrics.accuracy_score(test_labels, prediction_XG))\n",
    "print(\"Precision =\", precision_score(test_labels, prediction_XG,average='micro'))\n",
    "print(\"Recall =\",recall_score(test_labels, prediction_XG,average='micro'))\n",
    "print(\"F_1 =\", f1_score(test_labels, prediction_XG,average='micro'))"
   ]
  },
  {
   "cell_type": "code",
   "execution_count": null,
   "metadata": {
    "id": "cHqB3_f-pn4T",
    "outputId": "bc9bbdc4-16f5-4816-8eb4-b49ed704ae45"
   },
   "outputs": [],
   "source": [
    "cm = confusion_matrix(test_labels, prediction_XG)\n",
    "import seaborn as sns\n",
    "import matplotlib.pyplot as plt\n",
    "\n",
    "### Confusion Matrix\n",
    "from sklearn.metrics import confusion_matrix\n",
    "#predictions = model.predict(x_test, steps=len(x_test), verbose=0)\n",
    "#y_pred=model.predict(x_test)\n",
    "#y_pred = np.round(y_pred)\n",
    "#y_pred = np.argmax(predictions, axis=-1)\n",
    "\n",
    "#y_true=np.argmax(y_test, axis=-1)\n",
    "\n",
    "#cm = confusion_matrix(y_true, y_pred)\n",
    "\n",
    "## Get Class Labels\n",
    "#labels = le.classes_\n",
    "class_names = labels\n",
    "\n",
    "# Plot confusion matrix in a beautiful manner\n",
    "fig = plt.figure(figsize=(7, 7))\n",
    "ax= plt.subplot()\n",
    "sns.heatmap(cm, annot=True, ax = ax, cmap=\"Blues\", fmt = \"g\"); #annot=True to annotate cells\n",
    "# labels, title and ticks\n",
    "ax.set_xlabel('Predicted', fontsize=15)\n",
    "ax.xaxis.set_label_position('bottom')\n",
    "plt.xticks(rotation=90)\n",
    "ax.xaxis.set_ticklabels(class_names, fontsize = 15)\n",
    "ax.xaxis.tick_bottom()\n",
    "\n",
    "ax.set_ylabel('True', fontsize=15)\n",
    "ax.yaxis.set_ticklabels(class_names, fontsize = 15)\n",
    "plt.yticks(rotation=0)\n",
    "\n",
    "#plt.title('Refined Confusion Matrix', fontsize=15)\n",
    "\n",
    "# plt.savefig('/home/nd/Ankit-Deepto-Btech/Xception_128_128/Xception_XGBoost.png')\n",
    "plt.show()"
   ]
  },
  {
   "cell_type": "markdown",
   "metadata": {
    "id": "i1-7Wz9zpn4T"
   },
   "source": [
    "##SVC- Support Vector Classifier"
   ]
  },
  {
   "cell_type": "code",
   "execution_count": null,
   "metadata": {
    "id": "pcuTPh_Ypn4T"
   },
   "outputs": [],
   "source": [
    "from sklearn.svm import SVC"
   ]
  },
  {
   "cell_type": "code",
   "execution_count": null,
   "metadata": {
    "id": "ybG8QFV6pn4U"
   },
   "outputs": [],
   "source": [
    "svc = SVC(C=0.65, random_state=0, kernel='rbf')"
   ]
  },
  {
   "cell_type": "code",
   "execution_count": null,
   "metadata": {
    "colab": {
     "base_uri": "https://localhost:8080/"
    },
    "id": "3GaiSX7rpn4U",
    "outputId": "2a346684-452b-479f-f79f-ed31b72076e0"
   },
   "outputs": [],
   "source": [
    "svc.fit(features__, y_train)"
   ]
  },
  {
   "cell_type": "code",
   "execution_count": null,
   "metadata": {
    "colab": {
     "base_uri": "https://localhost:8080/"
    },
    "id": "QMD4IGPMpn4U",
    "outputId": "04ab69b7-2888-4427-9208-3e3eb0b1608b"
   },
   "outputs": [],
   "source": [
    "X_test_features__ = X_test_feature.reshape(X_test_feature.shape[0], -1)\n",
    "X_test_features__.shape"
   ]
  },
  {
   "cell_type": "code",
   "execution_count": null,
   "metadata": {
    "colab": {
     "base_uri": "https://localhost:8080/"
    },
    "id": "PyEMTBBmpn4U",
    "outputId": "76284038-98cf-4244-bd00-4b7388338952"
   },
   "outputs": [],
   "source": [
    "X_test_features = Model.predict(x_test)\n",
    "X_test_features.shape"
   ]
  },
  {
   "cell_type": "code",
   "execution_count": null,
   "metadata": {
    "id": "pWP7k0H1pn4U"
   },
   "outputs": [],
   "source": [
    "predictions = svc.predict(X_test_features__ )\n",
    "prediction_SVC = le.inverse_transform(predictions)"
   ]
  },
  {
   "cell_type": "code",
   "execution_count": null,
   "metadata": {
    "colab": {
     "base_uri": "https://localhost:8080/"
    },
    "id": "OyiDA0v4pn4U",
    "outputId": "e39c518e-c5de-4048-825e-f1526b22e428"
   },
   "outputs": [],
   "source": [
    "prediction_SVC"
   ]
  },
  {
   "cell_type": "code",
   "execution_count": null,
   "metadata": {
    "colab": {
     "base_uri": "https://localhost:8080/"
    },
    "id": "_vVvFQgWpn4U",
    "outputId": "2a32b96d-fbad-45f8-81f4-615b6652c20e"
   },
   "outputs": [],
   "source": [
    "print(\"Accuracy of Model::\",metrics.accuracy_score(test_labels, prediction_SVC))"
   ]
  },
  {
   "cell_type": "code",
   "execution_count": null,
   "metadata": {
    "id": "YV6yK6rnpn4U",
    "outputId": "7c2f436d-6e64-4a25-ac82-142e4f876167"
   },
   "outputs": [],
   "source": [
    "print (\"Accuracy = \", metrics.accuracy_score(test_labels, prediction_SVC))\n",
    "print(\"Precision =\", precision_score(test_labels, prediction_SVC,average='micro'))\n",
    "print(\"Recall =\",recall_score(test_labels, prediction_SVC,average='micro'))\n",
    "print(\"F_1 =\", f1_score(test_labels, prediction_SVC,average='micro'))"
   ]
  },
  {
   "cell_type": "code",
   "execution_count": null,
   "metadata": {
    "id": "RuLepS1Vpn4V",
    "outputId": "2918b9a2-4aed-47bb-ed34-1ac709693d24"
   },
   "outputs": [],
   "source": [
    "cm = confusion_matrix(test_labels, prediction_SVC)\n",
    "import seaborn as sns\n",
    "import matplotlib.pyplot as plt\n",
    "\n",
    "### Confusion Matrix\n",
    "from sklearn.metrics import confusion_matrix\n",
    "#predictions = model.predict(x_test, steps=len(x_test), verbose=0)\n",
    "#y_pred=model.predict(x_test)\n",
    "#y_pred = np.round(y_pred)\n",
    "#y_pred = np.argmax(predictions, axis=-1)\n",
    "\n",
    "#y_true=np.argmax(y_test, axis=-1)\n",
    "\n",
    "#cm = confusion_matrix(y_true, y_pred)\n",
    "\n",
    "## Get Class Labels\n",
    "#labels = le.classes_\n",
    "class_names = labels\n",
    "\n",
    "# Plot confusion matrix in a beautiful manner\n",
    "fig = plt.figure(figsize=(7, 7))\n",
    "ax= plt.subplot()\n",
    "sns.heatmap(cm, annot=True, ax = ax, cmap=\"Blues\", fmt = \"g\"); #annot=True to annotate cells\n",
    "# labels, title and ticks\n",
    "ax.set_xlabel('Predicted', fontsize=15)\n",
    "ax.xaxis.set_label_position('bottom')\n",
    "plt.xticks(rotation=90)\n",
    "ax.xaxis.set_ticklabels(class_names, fontsize = 15)\n",
    "ax.xaxis.tick_bottom()\n",
    "\n",
    "ax.set_ylabel('True', fontsize=15)\n",
    "ax.yaxis.set_ticklabels(class_names, fontsize = 15)\n",
    "plt.yticks(rotation=0)\n",
    "\n",
    "#plt.title('Refined Confusion Matrix', fontsize=15)\n",
    "\n",
    "# plt.savefig('/home/nd/Ankit-Deepto-Btech/Xception_128_128/Xception_SVC.png')\n",
    "plt.show()"
   ]
  },
  {
   "cell_type": "code",
   "execution_count": null,
   "metadata": {
    "colab": {
     "base_uri": "https://localhost:8080/"
    },
    "id": "0kGqbkRypn4W",
    "outputId": "66621156-abe9-4bbe-b349-1c4cde6a4ff9"
   },
   "outputs": [],
   "source": [
    "import numpy as np\n",
    "from sklearn.manifold import TSNE\n",
    "#>>> X = np.array([[0, 0, 0], [0, 1, 1], [1, 0, 1], [1, 1, 1]])\n",
    "X_embedded = TSNE(n_components=3, learning_rate='auto', init='random', perplexity=3).fit_transform(features__)\n",
    "X_embedded.shape"
   ]
  },
  {
   "cell_type": "code",
   "execution_count": null,
   "metadata": {
    "id": "V6RYv9kppn4W"
   },
   "outputs": [],
   "source": [
    "import pandas as pd"
   ]
  },
  {
   "cell_type": "code",
   "execution_count": null,
   "metadata": {
    "id": "m5mnLL93pn4Z"
   },
   "outputs": [],
   "source": [
    "df = pd.DataFrame()\n",
    "df[\"y\"] = y_train\n",
    "df[\"comp-1\"] = X_embedded[:,0]\n",
    "df[\"comp-2\"] = X_embedded[:,1]"
   ]
  },
  {
   "cell_type": "code",
   "execution_count": null,
   "metadata": {
    "id": "Yw1wJ16gpn4Z",
    "outputId": "71ab40f0-a315-4c45-a96b-2e41df651a1b"
   },
   "outputs": [],
   "source": [
    "sns.scatterplot(x=\"comp-1\", y=\"comp-2\", hue=df.y.tolist(),\n",
    "                data=df).set(title=\"\")\n",
    "plt.legend(bbox_to_anchor=(1.02, 1), loc='upper left', borderaxespad=0)\n",
    "# plt.savefig('/home/nd/Ankit-Deepto-Btech/__128_128/TSNE_Train_data.png')\n",
    "plt.show()"
   ]
  },
  {
   "cell_type": "markdown",
   "metadata": {
    "id": "nRpdmpjWpn4b"
   },
   "source": [
    "##ENSEMBLE"
   ]
  },
  {
   "cell_type": "code",
   "execution_count": null,
   "metadata": {
    "id": "s6NSlgnDpn4b"
   },
   "outputs": [],
   "source": [
    "final_model_2 = VotingClassifier(estimators=[('rf', RF_model), ('xgb', xgb_classifier),('knn',knn),('svc',svc),('lr',lrm)], voting='hard')\n"
   ]
  },
  {
   "cell_type": "code",
   "execution_count": null,
   "metadata": {
    "id": "rM7gsBRJpn4c",
    "outputId": "bf98038f-8a99-413b-a12b-f6c0e224f897"
   },
   "outputs": [],
   "source": [
    "final_model_2.fit(features__, y_train)"
   ]
  },
  {
   "cell_type": "code",
   "execution_count": null,
   "metadata": {
    "id": "fb2pjVyapn4c"
   },
   "outputs": [],
   "source": [
    "predictions = final_model_2.predict(X_test_features__) # X_test_features\n",
    "prediction_final = le.inverse_transform(predictions)"
   ]
  },
  {
   "cell_type": "code",
   "execution_count": null,
   "metadata": {
    "colab": {
     "base_uri": "https://localhost:8080/"
    },
    "id": "a1I2slCvpn4c",
    "outputId": "608db767-b1e6-4cbe-cb16-5f7e94a7ae34"
   },
   "outputs": [],
   "source": [
    "print(\"Accuracy of Model::\",metrics.accuracy_score(test_labels, prediction_final))"
   ]
  },
  {
   "cell_type": "code",
   "execution_count": null,
   "metadata": {
    "id": "glhriRPPpn4d",
    "outputId": "54432029-bde8-47e5-aa4c-68949ac0f572"
   },
   "outputs": [],
   "source": [
    "print(\"Precision =\", precision_score(test_labels, prediction_final,average='micro'))\n",
    "print(\"Recall =\",recall_score(test_labels, prediction_final,average='micro'))\n",
    "print(\"F_1 =\", f1_score(test_labels, prediction_final,average='micro'))"
   ]
  },
  {
   "cell_type": "code",
   "execution_count": null,
   "metadata": {
    "id": "ehUxcjo_pn4d"
   },
   "outputs": [],
   "source": []
  },
  {
   "cell_type": "code",
   "execution_count": null,
   "metadata": {
    "id": "Ux22E4XQpn4d",
    "outputId": "00fe6aa9-1080-42f1-88f4-e1af2e0240c1",
    "scrolled": true
   },
   "outputs": [],
   "source": [
    "print(\"Accuracy =\",accuracy_score(test_labels, prediction_final))\n",
    "print(\"Precision =\", precision_score(test_labels, prediction_final,average=None))\n",
    "print(\"Recall =\",recall_score(test_labels, prediction_final,average=None))\n",
    "print(\"F_1 =\", f1_score(test_labels, prediction_final,average=None))"
   ]
  },
  {
   "cell_type": "code",
   "execution_count": null,
   "metadata": {
    "id": "n1qkbpQMpn4d",
    "outputId": "7e10e3cb-2122-4d6f-c318-72fb45b59089"
   },
   "outputs": [],
   "source": [
    "cm = confusion_matrix(test_labels, prediction_final)\n",
    "import seaborn as sns\n",
    "import matplotlib.pyplot as plt\n",
    "\n",
    "### Confusion Matrix\n",
    "from sklearn.metrics import confusion_matrix\n",
    "#predictions = model.predict(x_test, steps=len(x_test), verbose=0)\n",
    "#y_pred=model.predict(x_test)\n",
    "#y_pred = np.round(y_pred)\n",
    "#y_pred = np.argmax(predictions, axis=-1)\n",
    "\n",
    "#y_true=np.argmax(y_test, axis=-1)\n",
    "\n",
    "#cm = confusion_matrix(y_true, y_pred)\n",
    "\n",
    "## Get Class Labels\n",
    "#labels = le.classes_\n",
    "class_names = labels\n",
    "\n",
    "# Plot confusion matrix in a beautiful manner\n",
    "fig = plt.figure(figsize=(7, 7))\n",
    "ax= plt.subplot()\n",
    "sns.heatmap(cm, annot=True, ax = ax, cmap=\"Blues\", fmt = \"g\"); #annot=True to annotate cells\n",
    "# labels, title and ticks\n",
    "ax.set_xlabel('Predicted', fontsize=15)\n",
    "ax.xaxis.set_label_position('bottom')\n",
    "plt.xticks(rotation=90)\n",
    "ax.xaxis.set_ticklabels(class_names, fontsize = 15)\n",
    "ax.xaxis.tick_bottom()\n",
    "\n",
    "ax.set_ylabel('True', fontsize=15)\n",
    "ax.yaxis.set_ticklabels(class_names, fontsize = 15)\n",
    "plt.yticks(rotation=0)\n",
    "\n",
    "#plt.title('Refined Confusion Matrix', fontsize=15)\n",
    "\n",
    "# plt.savefig('/home/nd/Ankit-Deepto-Btech/Xception_128_128/Xception_Ensemble.png')\n",
    "plt.show()"
   ]
  },
  {
   "cell_type": "markdown",
   "metadata": {
    "id": "6oBv9wM_pn4e"
   },
   "source": [
    "# Ensemble of ensemble code"
   ]
  },
  {
   "cell_type": "code",
   "execution_count": null,
   "metadata": {
    "id": "3_bIQu80pn4e"
   },
   "outputs": [],
   "source": [
    "final_model_final= VotingClassifier(estimators=[('model0', final_model), ('model1', final_model_1),('model2',final_model_2)], voting='hard')\n"
   ]
  },
  {
   "cell_type": "code",
   "execution_count": null,
   "metadata": {
    "id": "mheiZribpn4e",
    "outputId": "8548be56-4c9d-45c0-86ed-aaab22ed3eca"
   },
   "outputs": [],
   "source": [
    "final_model_final.fit(features__, y_train)"
   ]
  },
  {
   "cell_type": "code",
   "execution_count": null,
   "metadata": {
    "id": "95bEFL0Ipn4e"
   },
   "outputs": [],
   "source": [
    "predictions = final_model_final.predict(X_test_features__) # X_test_features\n",
    "prediction_final = le.inverse_transform(predictions)"
   ]
  },
  {
   "cell_type": "code",
   "execution_count": null,
   "metadata": {
    "colab": {
     "base_uri": "https://localhost:8080/"
    },
    "id": "sr7oPZzJpn4f",
    "outputId": "608db767-b1e6-4cbe-cb16-5f7e94a7ae34"
   },
   "outputs": [],
   "source": [
    "print(\"Accuracy of Model::\",metrics.accuracy_score(test_labels, prediction_final))"
   ]
  },
  {
   "cell_type": "code",
   "execution_count": null,
   "metadata": {
    "id": "5MLykFrGpn4f",
    "outputId": "9a918ce5-733c-4b83-9e54-974e1cc3785b"
   },
   "outputs": [],
   "source": [
    "print(\"Precision =\", precision_score(test_labels, prediction_final,average='micro'))\n",
    "print(\"Recall =\",recall_score(test_labels, prediction_final,average='micro'))\n",
    "print(\"F_1 =\", f1_score(test_labels, prediction_final,average='micro'))"
   ]
  },
  {
   "cell_type": "code",
   "execution_count": null,
   "metadata": {
    "id": "kP89nSOCpn4f"
   },
   "outputs": [],
   "source": []
  },
  {
   "cell_type": "code",
   "execution_count": null,
   "metadata": {
    "id": "jSwc5Zj-pn4f",
    "outputId": "f2c8ecb3-3c50-41dd-c728-4e62a6d3bf71",
    "scrolled": true
   },
   "outputs": [],
   "source": [
    "print(\"Accuracy =\",accuracy_score(test_labels, prediction_final))\n",
    "print(\"Precision =\", precision_score(test_labels, prediction_final,average=None))\n",
    "print(\"Recall =\",recall_score(test_labels, prediction_final,average=None))\n",
    "print(\"F_1 =\", f1_score(test_labels, prediction_final,average=None))"
   ]
  },
  {
   "cell_type": "code",
   "execution_count": null,
   "metadata": {
    "id": "jTAmKN1Lpn4f",
    "outputId": "61386c47-1b3e-48d1-fe4f-1e00fa8464d4"
   },
   "outputs": [],
   "source": [
    "cm = confusion_matrix(test_labels, prediction_final)\n",
    "import seaborn as sns\n",
    "import matplotlib.pyplot as plt\n",
    "\n",
    "### Confusion Matrix\n",
    "from sklearn.metrics import confusion_matrix\n",
    "#predictions = model.predict(x_test, steps=len(x_test), verbose=0)\n",
    "#y_pred=model.predict(x_test)\n",
    "#y_pred = np.round(y_pred)\n",
    "#y_pred = np.argmax(predictions, axis=-1)\n",
    "\n",
    "#y_true=np.argmax(y_test, axis=-1)\n",
    "\n",
    "#cm = confusion_matrix(y_true, y_pred)\n",
    "\n",
    "## Get Class Labels\n",
    "#labels = le.classes_\n",
    "class_names = labels\n",
    "\n",
    "# Plot confusion matrix in a beautiful manner\n",
    "fig = plt.figure(figsize=(7, 7))\n",
    "ax= plt.subplot()\n",
    "sns.heatmap(cm, annot=True, ax = ax, cmap=\"Blues\", fmt = \"g\"); #annot=True to annotate cells\n",
    "# labels, title and ticks\n",
    "ax.set_xlabel('Predicted', fontsize=15)\n",
    "ax.xaxis.set_label_position('bottom')\n",
    "plt.xticks(rotation=90)\n",
    "ax.xaxis.set_ticklabels(class_names, fontsize = 15)\n",
    "ax.xaxis.tick_bottom()\n",
    "\n",
    "ax.set_ylabel('True', fontsize=15)\n",
    "ax.yaxis.set_ticklabels(class_names, fontsize = 15)\n",
    "plt.yticks(rotation=0)\n",
    "\n",
    "#plt.title('Refined Confusion Matrix', fontsize=15)\n",
    "\n",
    "# plt.savefig('/home/nd/Ankit-Deepto-Btech/ensemble_of_ensemble/confusion_matrix.png')\n",
    "plt.show()"
   ]
  }
 ],
 "metadata": {
  "accelerator": "GPU",
  "colab": {
   "provenance": []
  },
  "gpuClass": "standard",
  "kernelspec": {
   "display_name": "Python 3 (ipykernel)",
   "language": "python",
   "name": "python3"
  },
  "language_info": {
   "codemirror_mode": {
    "name": "ipython",
    "version": 3
   },
   "file_extension": ".py",
   "mimetype": "text/x-python",
   "name": "python",
   "nbconvert_exporter": "python",
   "pygments_lexer": "ipython3",
   "version": "3.10.9"
  }
 },
 "nbformat": 4,
 "nbformat_minor": 1
}
